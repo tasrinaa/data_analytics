{
  "nbformat": 4,
  "nbformat_minor": 0,
  "metadata": {
    "colab": {
      "name": "Unit 2 Project Mini Project 1.ipynb",
      "provenance": []
    },
    "kernelspec": {
      "name": "python3",
      "display_name": "Python 3"
    }
  },
  "cells": [
    {
      "cell_type": "markdown",
      "metadata": {
        "id": "gXRhaNXJl4HA"
      },
      "source": [
        "## **Ask the user for a number. Depending on whether the number is even or odd, print out an appropriate message for the user. Hint: how does an even / odd number react differently when divided by 2?**"
      ]
    },
    {
      "cell_type": "code",
      "metadata": {
        "id": "1aQWIcNwl0Z2",
        "colab": {
          "base_uri": "https://localhost:8080/"
        },
        "outputId": "21c663e0-6f2b-4c8c-ff3f-52afdded7926"
      },
      "source": [
        "# an even number is divisible by 2 without a remainder, an odd number has a remainder\n",
        "\n",
        "number = input(\"Please pick a number: \")\n",
        "\n",
        "# % operator - divides the left-hand operand by the right-hand operand and returns a reminder \n",
        "#number is a str, change to int when printing\n",
        "\n",
        "if int(number) % 2 == 0:\n",
        "  print(number + \" is an even number.\")\n",
        "else:\n",
        "  print(number + \" is an odd number.\") \n"
      ],
      "execution_count": 134,
      "outputs": [
        {
          "output_type": "stream",
          "text": [
            "Please pick a number: -10008\n",
            "-10008 is an even number.\n"
          ],
          "name": "stdout"
        }
      ]
    },
    {
      "cell_type": "code",
      "metadata": {
        "id": "BvIoOS3pl_-w",
        "colab": {
          "base_uri": "https://localhost:8080/"
        },
        "outputId": "ca0d5958-f5ee-4c28-a64b-b77e3905b57a"
      },
      "source": [
        "# Bonus: \n",
        "#If the number is a multiple of 4, print out a different message \n",
        "\n",
        "number = input(\"Please pick a number: \")\n",
        "\n",
        "# number divisible by 4 without a remainder, shows that it's a multiple of 4.\n",
        "\n",
        "if int(number) % 4 == 0:\n",
        "  print (\"Is a multiple of 4.\")\n",
        "else:\n",
        "  print(\"Is not a multiple of 4.\")\n"
      ],
      "execution_count": 137,
      "outputs": [
        {
          "output_type": "stream",
          "text": [
            "Please pick a number: -20\n",
            "Is a multiple of 4.\n"
          ],
          "name": "stdout"
        }
      ]
    },
    {
      "cell_type": "code",
      "metadata": {
        "id": "gO7B1U_eoJEa",
        "colab": {
          "base_uri": "https://localhost:8080/"
        },
        "outputId": "e833f65e-dcdd-4b79-9969-f724ed072069"
      },
      "source": [
        "# Bonus: \n",
        "# Ask the user for two numbers: one number to check (call it num) and one number to divide by (check). \n",
        "# If check divides evenly into num, tell that to the user. If not, print a different message.\n",
        "\n",
        "num = input(\"Please pick a number: \")\n",
        "check = input(\"Please pick another number: \")\n",
        "division = int(num)/int(check)\n",
        "\n",
        "# division is a float, change to str when printing \n",
        "\n",
        "print(num + \"/\" + check + \" = \" + str(division))\n",
        "\n",
        "# % operator - divides the left-hand operand by the right-hand operand and returns a reminder.\n",
        "#divide evenly: no remainder - no decimals\n",
        "\n",
        "if int(num)%int(check) == 0:\n",
        "  print(check + \" divides evenly into \" + num + \"!\")\n",
        "else:\n",
        "  print(check + \" does not divide evenly into \" + num + \"!\")\n",
        "  "
      ],
      "execution_count": 141,
      "outputs": [
        {
          "output_type": "stream",
          "text": [
            "Please pick a number: 3\n",
            "Please pick another number: 18\n",
            "3/18 = 0.16666666666666666\n",
            "18 does not divide evenly into 3!\n"
          ],
          "name": "stdout"
        }
      ]
    },
    {
      "cell_type": "code",
      "metadata": {
        "id": "Rrz8iyylBMvb",
        "colab": {
          "base_uri": "https://localhost:8080/"
        },
        "outputId": "cc279cf4-abba-4bd3-ebc5-1155e5103138"
      },
      "source": [
        "# Bonus: Write a custom function for finding whether the number is even or odd and call it in your main program code.\n",
        "\n",
        "message = input(\"Please pick a number: \")\n",
        "def numbers(message):\n",
        "\n",
        "  if int(message) % 2 == 0:\n",
        "    print(\"This is an even number!\")\n",
        "  else:\n",
        "    print(\"This is an odd number!\")\n",
        "\n",
        "numbers(message)"
      ],
      "execution_count": 143,
      "outputs": [
        {
          "output_type": "stream",
          "text": [
            "Please pick a number: 5\n",
            "This is an odd number!\n"
          ],
          "name": "stdout"
        }
      ]
    },
    {
      "cell_type": "code",
      "metadata": {
        "id": "P-ft6yubdZLv"
      },
      "source": [
        ""
      ],
      "execution_count": 110,
      "outputs": []
    }
  ]
}