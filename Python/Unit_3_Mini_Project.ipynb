{
  "nbformat": 4,
  "nbformat_minor": 0,
  "metadata": {
    "colab": {
      "name": "Unit 3 Mini Project.ipynb",
      "provenance": [],
      "collapsed_sections": []
    },
    "kernelspec": {
      "display_name": "Python 3",
      "name": "python3"
    }
  },
  "cells": [
    {
      "cell_type": "code",
      "metadata": {
        "colab": {
          "background_save": true
        },
        "id": "M2Sn_J4K8UuR"
      },
      "source": [
        "# Set up environment by importing packages\n",
        "import numpy as np\n",
        "import pandas as pd \n",
        "import matplotlib.pyplot as plot \n",
        "%matplotlib inline\n",
        "import seaborn as sns\n",
        "from datetime import date, timedelta "
      ],
      "execution_count": null,
      "outputs": []
    },
    {
      "cell_type": "code",
      "metadata": {
        "colab": {
          "background_save": true
        },
        "id": "FdgdtHtW8h__",
        "outputId": "db848a3c-ffef-4ccb-9f22-49cee15fce22"
      },
      "source": [
        "# Import your data\n",
        "covid19 = pd.read_csv('https://raw.githubusercontent.com/nytimes/covid-19-data/master/us-counties.csv')\n",
        "covid19"
      ],
      "execution_count": null,
      "outputs": [
        {
          "output_type": "execute_result",
          "data": {
            "text/html": [
              "<div>\n",
              "<style scoped>\n",
              "    .dataframe tbody tr th:only-of-type {\n",
              "        vertical-align: middle;\n",
              "    }\n",
              "\n",
              "    .dataframe tbody tr th {\n",
              "        vertical-align: top;\n",
              "    }\n",
              "\n",
              "    .dataframe thead th {\n",
              "        text-align: right;\n",
              "    }\n",
              "</style>\n",
              "<table border=\"1\" class=\"dataframe\">\n",
              "  <thead>\n",
              "    <tr style=\"text-align: right;\">\n",
              "      <th></th>\n",
              "      <th>date</th>\n",
              "      <th>county</th>\n",
              "      <th>state</th>\n",
              "      <th>fips</th>\n",
              "      <th>cases</th>\n",
              "      <th>deaths</th>\n",
              "    </tr>\n",
              "  </thead>\n",
              "  <tbody>\n",
              "    <tr>\n",
              "      <th>0</th>\n",
              "      <td>2020-01-21</td>\n",
              "      <td>Snohomish</td>\n",
              "      <td>Washington</td>\n",
              "      <td>53061.0</td>\n",
              "      <td>1</td>\n",
              "      <td>0.0</td>\n",
              "    </tr>\n",
              "    <tr>\n",
              "      <th>1</th>\n",
              "      <td>2020-01-22</td>\n",
              "      <td>Snohomish</td>\n",
              "      <td>Washington</td>\n",
              "      <td>53061.0</td>\n",
              "      <td>1</td>\n",
              "      <td>0.0</td>\n",
              "    </tr>\n",
              "    <tr>\n",
              "      <th>2</th>\n",
              "      <td>2020-01-23</td>\n",
              "      <td>Snohomish</td>\n",
              "      <td>Washington</td>\n",
              "      <td>53061.0</td>\n",
              "      <td>1</td>\n",
              "      <td>0.0</td>\n",
              "    </tr>\n",
              "    <tr>\n",
              "      <th>3</th>\n",
              "      <td>2020-01-24</td>\n",
              "      <td>Cook</td>\n",
              "      <td>Illinois</td>\n",
              "      <td>17031.0</td>\n",
              "      <td>1</td>\n",
              "      <td>0.0</td>\n",
              "    </tr>\n",
              "    <tr>\n",
              "      <th>4</th>\n",
              "      <td>2020-01-24</td>\n",
              "      <td>Snohomish</td>\n",
              "      <td>Washington</td>\n",
              "      <td>53061.0</td>\n",
              "      <td>1</td>\n",
              "      <td>0.0</td>\n",
              "    </tr>\n",
              "    <tr>\n",
              "      <th>...</th>\n",
              "      <td>...</td>\n",
              "      <td>...</td>\n",
              "      <td>...</td>\n",
              "      <td>...</td>\n",
              "      <td>...</td>\n",
              "      <td>...</td>\n",
              "    </tr>\n",
              "    <tr>\n",
              "      <th>936738</th>\n",
              "      <td>2021-01-16</td>\n",
              "      <td>Sweetwater</td>\n",
              "      <td>Wyoming</td>\n",
              "      <td>56037.0</td>\n",
              "      <td>3280</td>\n",
              "      <td>26.0</td>\n",
              "    </tr>\n",
              "    <tr>\n",
              "      <th>936739</th>\n",
              "      <td>2021-01-16</td>\n",
              "      <td>Teton</td>\n",
              "      <td>Wyoming</td>\n",
              "      <td>56039.0</td>\n",
              "      <td>2614</td>\n",
              "      <td>4.0</td>\n",
              "    </tr>\n",
              "    <tr>\n",
              "      <th>936740</th>\n",
              "      <td>2021-01-16</td>\n",
              "      <td>Uinta</td>\n",
              "      <td>Wyoming</td>\n",
              "      <td>56041.0</td>\n",
              "      <td>1813</td>\n",
              "      <td>9.0</td>\n",
              "    </tr>\n",
              "    <tr>\n",
              "      <th>936741</th>\n",
              "      <td>2021-01-16</td>\n",
              "      <td>Washakie</td>\n",
              "      <td>Wyoming</td>\n",
              "      <td>56043.0</td>\n",
              "      <td>841</td>\n",
              "      <td>23.0</td>\n",
              "    </tr>\n",
              "    <tr>\n",
              "      <th>936742</th>\n",
              "      <td>2021-01-16</td>\n",
              "      <td>Weston</td>\n",
              "      <td>Wyoming</td>\n",
              "      <td>56045.0</td>\n",
              "      <td>602</td>\n",
              "      <td>4.0</td>\n",
              "    </tr>\n",
              "  </tbody>\n",
              "</table>\n",
              "<p>936743 rows × 6 columns</p>\n",
              "</div>"
            ],
            "text/plain": [
              "              date      county       state     fips  cases  deaths\n",
              "0       2020-01-21   Snohomish  Washington  53061.0      1     0.0\n",
              "1       2020-01-22   Snohomish  Washington  53061.0      1     0.0\n",
              "2       2020-01-23   Snohomish  Washington  53061.0      1     0.0\n",
              "3       2020-01-24        Cook    Illinois  17031.0      1     0.0\n",
              "4       2020-01-24   Snohomish  Washington  53061.0      1     0.0\n",
              "...            ...         ...         ...      ...    ...     ...\n",
              "936738  2021-01-16  Sweetwater     Wyoming  56037.0   3280    26.0\n",
              "936739  2021-01-16       Teton     Wyoming  56039.0   2614     4.0\n",
              "936740  2021-01-16       Uinta     Wyoming  56041.0   1813     9.0\n",
              "936741  2021-01-16    Washakie     Wyoming  56043.0    841    23.0\n",
              "936742  2021-01-16      Weston     Wyoming  56045.0    602     4.0\n",
              "\n",
              "[936743 rows x 6 columns]"
            ]
          },
          "metadata": {
            "tags": []
          },
          "execution_count": 0
        }
      ]
    },
    {
      "cell_type": "markdown",
      "metadata": {
        "id": "YUO6378JP_qE"
      },
      "source": [
        "## **COVID 19 DATA**"
      ]
    },
    {
      "cell_type": "markdown",
      "metadata": {
        "id": "AGiNomOp8ti2"
      },
      "source": [
        "**DATA WRANGLING**\n",
        "- drop columns, rename columns, change index"
      ]
    },
    {
      "cell_type": "code",
      "metadata": {
        "colab": {
          "background_save": true
        },
        "id": "lWkw4RE58rlm",
        "outputId": "57b4cef4-0751-4fd5-b487-55a465300e73"
      },
      "source": [
        "# Check for column names \n",
        "covid19.columns"
      ],
      "execution_count": null,
      "outputs": [
        {
          "output_type": "execute_result",
          "data": {
            "text/plain": [
              "Index(['date', 'county', 'state', 'fips', 'cases', 'deaths'], dtype='object')"
            ]
          },
          "metadata": {
            "tags": []
          },
          "execution_count": 0
        }
      ]
    },
    {
      "cell_type": "code",
      "metadata": {
        "colab": {
          "background_save": true
        },
        "id": "08M0at4q8yJw",
        "outputId": "86a4615b-3c38-4743-9556-52b8c0e4377f"
      },
      "source": [
        "# Drop unnecessary columns, fips not needed to look at cases and deaths \n",
        "drop_cols = ['fips']\n",
        "covid19.drop(drop_cols, inplace = True, axis=1)\n",
        "covid19"
      ],
      "execution_count": null,
      "outputs": [
        {
          "output_type": "execute_result",
          "data": {
            "text/html": [
              "<div>\n",
              "<style scoped>\n",
              "    .dataframe tbody tr th:only-of-type {\n",
              "        vertical-align: middle;\n",
              "    }\n",
              "\n",
              "    .dataframe tbody tr th {\n",
              "        vertical-align: top;\n",
              "    }\n",
              "\n",
              "    .dataframe thead th {\n",
              "        text-align: right;\n",
              "    }\n",
              "</style>\n",
              "<table border=\"1\" class=\"dataframe\">\n",
              "  <thead>\n",
              "    <tr style=\"text-align: right;\">\n",
              "      <th></th>\n",
              "      <th>date</th>\n",
              "      <th>county</th>\n",
              "      <th>state</th>\n",
              "      <th>cases</th>\n",
              "      <th>deaths</th>\n",
              "    </tr>\n",
              "  </thead>\n",
              "  <tbody>\n",
              "    <tr>\n",
              "      <th>0</th>\n",
              "      <td>2020-01-21</td>\n",
              "      <td>Snohomish</td>\n",
              "      <td>Washington</td>\n",
              "      <td>1</td>\n",
              "      <td>0.0</td>\n",
              "    </tr>\n",
              "    <tr>\n",
              "      <th>1</th>\n",
              "      <td>2020-01-22</td>\n",
              "      <td>Snohomish</td>\n",
              "      <td>Washington</td>\n",
              "      <td>1</td>\n",
              "      <td>0.0</td>\n",
              "    </tr>\n",
              "    <tr>\n",
              "      <th>2</th>\n",
              "      <td>2020-01-23</td>\n",
              "      <td>Snohomish</td>\n",
              "      <td>Washington</td>\n",
              "      <td>1</td>\n",
              "      <td>0.0</td>\n",
              "    </tr>\n",
              "    <tr>\n",
              "      <th>3</th>\n",
              "      <td>2020-01-24</td>\n",
              "      <td>Cook</td>\n",
              "      <td>Illinois</td>\n",
              "      <td>1</td>\n",
              "      <td>0.0</td>\n",
              "    </tr>\n",
              "    <tr>\n",
              "      <th>4</th>\n",
              "      <td>2020-01-24</td>\n",
              "      <td>Snohomish</td>\n",
              "      <td>Washington</td>\n",
              "      <td>1</td>\n",
              "      <td>0.0</td>\n",
              "    </tr>\n",
              "    <tr>\n",
              "      <th>...</th>\n",
              "      <td>...</td>\n",
              "      <td>...</td>\n",
              "      <td>...</td>\n",
              "      <td>...</td>\n",
              "      <td>...</td>\n",
              "    </tr>\n",
              "    <tr>\n",
              "      <th>936738</th>\n",
              "      <td>2021-01-16</td>\n",
              "      <td>Sweetwater</td>\n",
              "      <td>Wyoming</td>\n",
              "      <td>3280</td>\n",
              "      <td>26.0</td>\n",
              "    </tr>\n",
              "    <tr>\n",
              "      <th>936739</th>\n",
              "      <td>2021-01-16</td>\n",
              "      <td>Teton</td>\n",
              "      <td>Wyoming</td>\n",
              "      <td>2614</td>\n",
              "      <td>4.0</td>\n",
              "    </tr>\n",
              "    <tr>\n",
              "      <th>936740</th>\n",
              "      <td>2021-01-16</td>\n",
              "      <td>Uinta</td>\n",
              "      <td>Wyoming</td>\n",
              "      <td>1813</td>\n",
              "      <td>9.0</td>\n",
              "    </tr>\n",
              "    <tr>\n",
              "      <th>936741</th>\n",
              "      <td>2021-01-16</td>\n",
              "      <td>Washakie</td>\n",
              "      <td>Wyoming</td>\n",
              "      <td>841</td>\n",
              "      <td>23.0</td>\n",
              "    </tr>\n",
              "    <tr>\n",
              "      <th>936742</th>\n",
              "      <td>2021-01-16</td>\n",
              "      <td>Weston</td>\n",
              "      <td>Wyoming</td>\n",
              "      <td>602</td>\n",
              "      <td>4.0</td>\n",
              "    </tr>\n",
              "  </tbody>\n",
              "</table>\n",
              "<p>936743 rows × 5 columns</p>\n",
              "</div>"
            ],
            "text/plain": [
              "              date      county       state  cases  deaths\n",
              "0       2020-01-21   Snohomish  Washington      1     0.0\n",
              "1       2020-01-22   Snohomish  Washington      1     0.0\n",
              "2       2020-01-23   Snohomish  Washington      1     0.0\n",
              "3       2020-01-24        Cook    Illinois      1     0.0\n",
              "4       2020-01-24   Snohomish  Washington      1     0.0\n",
              "...            ...         ...         ...    ...     ...\n",
              "936738  2021-01-16  Sweetwater     Wyoming   3280    26.0\n",
              "936739  2021-01-16       Teton     Wyoming   2614     4.0\n",
              "936740  2021-01-16       Uinta     Wyoming   1813     9.0\n",
              "936741  2021-01-16    Washakie     Wyoming    841    23.0\n",
              "936742  2021-01-16      Weston     Wyoming    602     4.0\n",
              "\n",
              "[936743 rows x 5 columns]"
            ]
          },
          "metadata": {
            "tags": []
          },
          "execution_count": 0
        }
      ]
    },
    {
      "cell_type": "code",
      "metadata": {
        "colab": {
          "background_save": true
        },
        "id": "kBtIi99Y81_7",
        "outputId": "6e652150-f684-4d58-c41d-8b138454c5e5"
      },
      "source": [
        "# Rename columns to make it stand out more, changed to all capital letters\n",
        "covid19 = covid19.rename(columns = {'date': 'DATE', 'county' : 'COUNTY', 'state':'STATE', 'cases': 'CASES', 'deaths': 'DEATHS'})\n",
        "covid19"
      ],
      "execution_count": null,
      "outputs": [
        {
          "output_type": "execute_result",
          "data": {
            "text/html": [
              "<div>\n",
              "<style scoped>\n",
              "    .dataframe tbody tr th:only-of-type {\n",
              "        vertical-align: middle;\n",
              "    }\n",
              "\n",
              "    .dataframe tbody tr th {\n",
              "        vertical-align: top;\n",
              "    }\n",
              "\n",
              "    .dataframe thead th {\n",
              "        text-align: right;\n",
              "    }\n",
              "</style>\n",
              "<table border=\"1\" class=\"dataframe\">\n",
              "  <thead>\n",
              "    <tr style=\"text-align: right;\">\n",
              "      <th></th>\n",
              "      <th>DATE</th>\n",
              "      <th>COUNTY</th>\n",
              "      <th>STATE</th>\n",
              "      <th>CASES</th>\n",
              "      <th>DEATHS</th>\n",
              "    </tr>\n",
              "  </thead>\n",
              "  <tbody>\n",
              "    <tr>\n",
              "      <th>0</th>\n",
              "      <td>2020-01-21</td>\n",
              "      <td>Snohomish</td>\n",
              "      <td>Washington</td>\n",
              "      <td>1</td>\n",
              "      <td>0.0</td>\n",
              "    </tr>\n",
              "    <tr>\n",
              "      <th>1</th>\n",
              "      <td>2020-01-22</td>\n",
              "      <td>Snohomish</td>\n",
              "      <td>Washington</td>\n",
              "      <td>1</td>\n",
              "      <td>0.0</td>\n",
              "    </tr>\n",
              "    <tr>\n",
              "      <th>2</th>\n",
              "      <td>2020-01-23</td>\n",
              "      <td>Snohomish</td>\n",
              "      <td>Washington</td>\n",
              "      <td>1</td>\n",
              "      <td>0.0</td>\n",
              "    </tr>\n",
              "    <tr>\n",
              "      <th>3</th>\n",
              "      <td>2020-01-24</td>\n",
              "      <td>Cook</td>\n",
              "      <td>Illinois</td>\n",
              "      <td>1</td>\n",
              "      <td>0.0</td>\n",
              "    </tr>\n",
              "    <tr>\n",
              "      <th>4</th>\n",
              "      <td>2020-01-24</td>\n",
              "      <td>Snohomish</td>\n",
              "      <td>Washington</td>\n",
              "      <td>1</td>\n",
              "      <td>0.0</td>\n",
              "    </tr>\n",
              "    <tr>\n",
              "      <th>...</th>\n",
              "      <td>...</td>\n",
              "      <td>...</td>\n",
              "      <td>...</td>\n",
              "      <td>...</td>\n",
              "      <td>...</td>\n",
              "    </tr>\n",
              "    <tr>\n",
              "      <th>936738</th>\n",
              "      <td>2021-01-16</td>\n",
              "      <td>Sweetwater</td>\n",
              "      <td>Wyoming</td>\n",
              "      <td>3280</td>\n",
              "      <td>26.0</td>\n",
              "    </tr>\n",
              "    <tr>\n",
              "      <th>936739</th>\n",
              "      <td>2021-01-16</td>\n",
              "      <td>Teton</td>\n",
              "      <td>Wyoming</td>\n",
              "      <td>2614</td>\n",
              "      <td>4.0</td>\n",
              "    </tr>\n",
              "    <tr>\n",
              "      <th>936740</th>\n",
              "      <td>2021-01-16</td>\n",
              "      <td>Uinta</td>\n",
              "      <td>Wyoming</td>\n",
              "      <td>1813</td>\n",
              "      <td>9.0</td>\n",
              "    </tr>\n",
              "    <tr>\n",
              "      <th>936741</th>\n",
              "      <td>2021-01-16</td>\n",
              "      <td>Washakie</td>\n",
              "      <td>Wyoming</td>\n",
              "      <td>841</td>\n",
              "      <td>23.0</td>\n",
              "    </tr>\n",
              "    <tr>\n",
              "      <th>936742</th>\n",
              "      <td>2021-01-16</td>\n",
              "      <td>Weston</td>\n",
              "      <td>Wyoming</td>\n",
              "      <td>602</td>\n",
              "      <td>4.0</td>\n",
              "    </tr>\n",
              "  </tbody>\n",
              "</table>\n",
              "<p>936743 rows × 5 columns</p>\n",
              "</div>"
            ],
            "text/plain": [
              "              DATE      COUNTY       STATE  CASES  DEATHS\n",
              "0       2020-01-21   Snohomish  Washington      1     0.0\n",
              "1       2020-01-22   Snohomish  Washington      1     0.0\n",
              "2       2020-01-23   Snohomish  Washington      1     0.0\n",
              "3       2020-01-24        Cook    Illinois      1     0.0\n",
              "4       2020-01-24   Snohomish  Washington      1     0.0\n",
              "...            ...         ...         ...    ...     ...\n",
              "936738  2021-01-16  Sweetwater     Wyoming   3280    26.0\n",
              "936739  2021-01-16       Teton     Wyoming   2614     4.0\n",
              "936740  2021-01-16       Uinta     Wyoming   1813     9.0\n",
              "936741  2021-01-16    Washakie     Wyoming    841    23.0\n",
              "936742  2021-01-16      Weston     Wyoming    602     4.0\n",
              "\n",
              "[936743 rows x 5 columns]"
            ]
          },
          "metadata": {
            "tags": []
          },
          "execution_count": 0
        }
      ]
    },
    {
      "cell_type": "code",
      "metadata": {
        "colab": {
          "background_save": true
        },
        "id": "PysFzPEY84Pb",
        "outputId": "7cd8ad2a-eb1d-45a2-df79-f218ba9563f8"
      },
      "source": [
        "# Remove unnecessary column, by setting date to be the index\n",
        "covid19 = covid19.set_index('DATE')\n",
        "covid19"
      ],
      "execution_count": null,
      "outputs": [
        {
          "output_type": "execute_result",
          "data": {
            "text/html": [
              "<div>\n",
              "<style scoped>\n",
              "    .dataframe tbody tr th:only-of-type {\n",
              "        vertical-align: middle;\n",
              "    }\n",
              "\n",
              "    .dataframe tbody tr th {\n",
              "        vertical-align: top;\n",
              "    }\n",
              "\n",
              "    .dataframe thead th {\n",
              "        text-align: right;\n",
              "    }\n",
              "</style>\n",
              "<table border=\"1\" class=\"dataframe\">\n",
              "  <thead>\n",
              "    <tr style=\"text-align: right;\">\n",
              "      <th></th>\n",
              "      <th>COUNTY</th>\n",
              "      <th>STATE</th>\n",
              "      <th>CASES</th>\n",
              "      <th>DEATHS</th>\n",
              "    </tr>\n",
              "    <tr>\n",
              "      <th>DATE</th>\n",
              "      <th></th>\n",
              "      <th></th>\n",
              "      <th></th>\n",
              "      <th></th>\n",
              "    </tr>\n",
              "  </thead>\n",
              "  <tbody>\n",
              "    <tr>\n",
              "      <th>2020-01-21</th>\n",
              "      <td>Snohomish</td>\n",
              "      <td>Washington</td>\n",
              "      <td>1</td>\n",
              "      <td>0.0</td>\n",
              "    </tr>\n",
              "    <tr>\n",
              "      <th>2020-01-22</th>\n",
              "      <td>Snohomish</td>\n",
              "      <td>Washington</td>\n",
              "      <td>1</td>\n",
              "      <td>0.0</td>\n",
              "    </tr>\n",
              "    <tr>\n",
              "      <th>2020-01-23</th>\n",
              "      <td>Snohomish</td>\n",
              "      <td>Washington</td>\n",
              "      <td>1</td>\n",
              "      <td>0.0</td>\n",
              "    </tr>\n",
              "    <tr>\n",
              "      <th>2020-01-24</th>\n",
              "      <td>Cook</td>\n",
              "      <td>Illinois</td>\n",
              "      <td>1</td>\n",
              "      <td>0.0</td>\n",
              "    </tr>\n",
              "    <tr>\n",
              "      <th>2020-01-24</th>\n",
              "      <td>Snohomish</td>\n",
              "      <td>Washington</td>\n",
              "      <td>1</td>\n",
              "      <td>0.0</td>\n",
              "    </tr>\n",
              "    <tr>\n",
              "      <th>...</th>\n",
              "      <td>...</td>\n",
              "      <td>...</td>\n",
              "      <td>...</td>\n",
              "      <td>...</td>\n",
              "    </tr>\n",
              "    <tr>\n",
              "      <th>2021-01-16</th>\n",
              "      <td>Sweetwater</td>\n",
              "      <td>Wyoming</td>\n",
              "      <td>3280</td>\n",
              "      <td>26.0</td>\n",
              "    </tr>\n",
              "    <tr>\n",
              "      <th>2021-01-16</th>\n",
              "      <td>Teton</td>\n",
              "      <td>Wyoming</td>\n",
              "      <td>2614</td>\n",
              "      <td>4.0</td>\n",
              "    </tr>\n",
              "    <tr>\n",
              "      <th>2021-01-16</th>\n",
              "      <td>Uinta</td>\n",
              "      <td>Wyoming</td>\n",
              "      <td>1813</td>\n",
              "      <td>9.0</td>\n",
              "    </tr>\n",
              "    <tr>\n",
              "      <th>2021-01-16</th>\n",
              "      <td>Washakie</td>\n",
              "      <td>Wyoming</td>\n",
              "      <td>841</td>\n",
              "      <td>23.0</td>\n",
              "    </tr>\n",
              "    <tr>\n",
              "      <th>2021-01-16</th>\n",
              "      <td>Weston</td>\n",
              "      <td>Wyoming</td>\n",
              "      <td>602</td>\n",
              "      <td>4.0</td>\n",
              "    </tr>\n",
              "  </tbody>\n",
              "</table>\n",
              "<p>936743 rows × 4 columns</p>\n",
              "</div>"
            ],
            "text/plain": [
              "                COUNTY       STATE  CASES  DEATHS\n",
              "DATE                                             \n",
              "2020-01-21   Snohomish  Washington      1     0.0\n",
              "2020-01-22   Snohomish  Washington      1     0.0\n",
              "2020-01-23   Snohomish  Washington      1     0.0\n",
              "2020-01-24        Cook    Illinois      1     0.0\n",
              "2020-01-24   Snohomish  Washington      1     0.0\n",
              "...                ...         ...    ...     ...\n",
              "2021-01-16  Sweetwater     Wyoming   3280    26.0\n",
              "2021-01-16       Teton     Wyoming   2614     4.0\n",
              "2021-01-16       Uinta     Wyoming   1813     9.0\n",
              "2021-01-16    Washakie     Wyoming    841    23.0\n",
              "2021-01-16      Weston     Wyoming    602     4.0\n",
              "\n",
              "[936743 rows x 4 columns]"
            ]
          },
          "metadata": {
            "tags": []
          },
          "execution_count": 0
        }
      ]
    },
    {
      "cell_type": "markdown",
      "metadata": {
        "id": "-xXi_z8XC7YZ"
      },
      "source": [
        "**NEW YORK STATE COVID 19 DATA**"
      ]
    },
    {
      "cell_type": "code",
      "metadata": {
        "colab": {
          "background_save": true
        },
        "id": "XJxv3dI1mhCg",
        "outputId": "d93aa0b8-c897-4ca4-ac08-a2d614ab0e99"
      },
      "source": [
        "# Filter out information to only include the date, cases, deaths in state of New York (including all counties)\n",
        "# Using .str.contains('New York') incase there are any mistakes, if spelling or capitalization is a bit off, it'll still count it - fuzzy matching\n",
        "nys = covid19[covid19['STATE'].str.contains('New York')]\n",
        "nys"
      ],
      "execution_count": null,
      "outputs": [
        {
          "output_type": "execute_result",
          "data": {
            "text/html": [
              "<div>\n",
              "<style scoped>\n",
              "    .dataframe tbody tr th:only-of-type {\n",
              "        vertical-align: middle;\n",
              "    }\n",
              "\n",
              "    .dataframe tbody tr th {\n",
              "        vertical-align: top;\n",
              "    }\n",
              "\n",
              "    .dataframe thead th {\n",
              "        text-align: right;\n",
              "    }\n",
              "</style>\n",
              "<table border=\"1\" class=\"dataframe\">\n",
              "  <thead>\n",
              "    <tr style=\"text-align: right;\">\n",
              "      <th></th>\n",
              "      <th>COUNTY</th>\n",
              "      <th>STATE</th>\n",
              "      <th>CASES</th>\n",
              "      <th>DEATHS</th>\n",
              "    </tr>\n",
              "    <tr>\n",
              "      <th>DATE</th>\n",
              "      <th></th>\n",
              "      <th></th>\n",
              "      <th></th>\n",
              "      <th></th>\n",
              "    </tr>\n",
              "  </thead>\n",
              "  <tbody>\n",
              "    <tr>\n",
              "      <th>2020-03-01</th>\n",
              "      <td>New York City</td>\n",
              "      <td>New York</td>\n",
              "      <td>1</td>\n",
              "      <td>0.0</td>\n",
              "    </tr>\n",
              "    <tr>\n",
              "      <th>2020-03-02</th>\n",
              "      <td>New York City</td>\n",
              "      <td>New York</td>\n",
              "      <td>1</td>\n",
              "      <td>0.0</td>\n",
              "    </tr>\n",
              "    <tr>\n",
              "      <th>2020-03-03</th>\n",
              "      <td>New York City</td>\n",
              "      <td>New York</td>\n",
              "      <td>2</td>\n",
              "      <td>0.0</td>\n",
              "    </tr>\n",
              "    <tr>\n",
              "      <th>2020-03-04</th>\n",
              "      <td>New York City</td>\n",
              "      <td>New York</td>\n",
              "      <td>2</td>\n",
              "      <td>0.0</td>\n",
              "    </tr>\n",
              "    <tr>\n",
              "      <th>2020-03-04</th>\n",
              "      <td>Westchester</td>\n",
              "      <td>New York</td>\n",
              "      <td>9</td>\n",
              "      <td>0.0</td>\n",
              "    </tr>\n",
              "    <tr>\n",
              "      <th>...</th>\n",
              "      <td>...</td>\n",
              "      <td>...</td>\n",
              "      <td>...</td>\n",
              "      <td>...</td>\n",
              "    </tr>\n",
              "    <tr>\n",
              "      <th>2021-01-16</th>\n",
              "      <td>Washington</td>\n",
              "      <td>New York</td>\n",
              "      <td>1424</td>\n",
              "      <td>21.0</td>\n",
              "    </tr>\n",
              "    <tr>\n",
              "      <th>2021-01-16</th>\n",
              "      <td>Wayne</td>\n",
              "      <td>New York</td>\n",
              "      <td>3568</td>\n",
              "      <td>50.0</td>\n",
              "    </tr>\n",
              "    <tr>\n",
              "      <th>2021-01-16</th>\n",
              "      <td>Westchester</td>\n",
              "      <td>New York</td>\n",
              "      <td>82932</td>\n",
              "      <td>1780.0</td>\n",
              "    </tr>\n",
              "    <tr>\n",
              "      <th>2021-01-16</th>\n",
              "      <td>Wyoming</td>\n",
              "      <td>New York</td>\n",
              "      <td>2075</td>\n",
              "      <td>41.0</td>\n",
              "    </tr>\n",
              "    <tr>\n",
              "      <th>2021-01-16</th>\n",
              "      <td>Yates</td>\n",
              "      <td>New York</td>\n",
              "      <td>783</td>\n",
              "      <td>16.0</td>\n",
              "    </tr>\n",
              "  </tbody>\n",
              "</table>\n",
              "<p>17736 rows × 4 columns</p>\n",
              "</div>"
            ],
            "text/plain": [
              "                   COUNTY     STATE  CASES  DEATHS\n",
              "DATE                                              \n",
              "2020-03-01  New York City  New York      1     0.0\n",
              "2020-03-02  New York City  New York      1     0.0\n",
              "2020-03-03  New York City  New York      2     0.0\n",
              "2020-03-04  New York City  New York      2     0.0\n",
              "2020-03-04    Westchester  New York      9     0.0\n",
              "...                   ...       ...    ...     ...\n",
              "2021-01-16     Washington  New York   1424    21.0\n",
              "2021-01-16          Wayne  New York   3568    50.0\n",
              "2021-01-16    Westchester  New York  82932  1780.0\n",
              "2021-01-16        Wyoming  New York   2075    41.0\n",
              "2021-01-16          Yates  New York    783    16.0\n",
              "\n",
              "[17736 rows x 4 columns]"
            ]
          },
          "metadata": {
            "tags": []
          },
          "execution_count": 0
        }
      ]
    },
    {
      "cell_type": "code",
      "metadata": {
        "colab": {
          "background_save": true
        },
        "id": "FtY-7PDt-iqZ",
        "outputId": "ace33e3f-03a4-4932-c253-50b460fd9754"
      },
      "source": [
        "# Statistics on covid 19 data for New York State\n",
        "nys.describe()"
      ],
      "execution_count": null,
      "outputs": [
        {
          "output_type": "execute_result",
          "data": {
            "text/html": [
              "<div>\n",
              "<style scoped>\n",
              "    .dataframe tbody tr th:only-of-type {\n",
              "        vertical-align: middle;\n",
              "    }\n",
              "\n",
              "    .dataframe tbody tr th {\n",
              "        vertical-align: top;\n",
              "    }\n",
              "\n",
              "    .dataframe thead th {\n",
              "        text-align: right;\n",
              "    }\n",
              "</style>\n",
              "<table border=\"1\" class=\"dataframe\">\n",
              "  <thead>\n",
              "    <tr style=\"text-align: right;\">\n",
              "      <th></th>\n",
              "      <th>CASES</th>\n",
              "      <th>DEATHS</th>\n",
              "    </tr>\n",
              "  </thead>\n",
              "  <tbody>\n",
              "    <tr>\n",
              "      <th>count</th>\n",
              "      <td>17736.000000</td>\n",
              "      <td>17736.000000</td>\n",
              "    </tr>\n",
              "    <tr>\n",
              "      <th>mean</th>\n",
              "      <td>8122.357465</td>\n",
              "      <td>504.299729</td>\n",
              "    </tr>\n",
              "    <tr>\n",
              "      <th>std</th>\n",
              "      <td>35224.171128</td>\n",
              "      <td>2852.821297</td>\n",
              "    </tr>\n",
              "    <tr>\n",
              "      <th>min</th>\n",
              "      <td>0.000000</td>\n",
              "      <td>0.000000</td>\n",
              "    </tr>\n",
              "    <tr>\n",
              "      <th>25%</th>\n",
              "      <td>115.000000</td>\n",
              "      <td>2.000000</td>\n",
              "    </tr>\n",
              "    <tr>\n",
              "      <th>50%</th>\n",
              "      <td>377.000000</td>\n",
              "      <td>11.000000</td>\n",
              "    </tr>\n",
              "    <tr>\n",
              "      <th>75%</th>\n",
              "      <td>1932.500000</td>\n",
              "      <td>61.000000</td>\n",
              "    </tr>\n",
              "    <tr>\n",
              "      <th>max</th>\n",
              "      <td>524231.000000</td>\n",
              "      <td>25970.000000</td>\n",
              "    </tr>\n",
              "  </tbody>\n",
              "</table>\n",
              "</div>"
            ],
            "text/plain": [
              "               CASES        DEATHS\n",
              "count   17736.000000  17736.000000\n",
              "mean     8122.357465    504.299729\n",
              "std     35224.171128   2852.821297\n",
              "min         0.000000      0.000000\n",
              "25%       115.000000      2.000000\n",
              "50%       377.000000     11.000000\n",
              "75%      1932.500000     61.000000\n",
              "max    524231.000000  25970.000000"
            ]
          },
          "metadata": {
            "tags": []
          },
          "execution_count": 0
        }
      ]
    },
    {
      "cell_type": "code",
      "metadata": {
        "colab": {
          "background_save": true
        },
        "id": "7DDlDvEwmoTI",
        "outputId": "72c482ad-ed95-4fa5-ae95-17aaff29d871"
      },
      "source": [
        "# Total covid 19 cases in New York State\n",
        "total_casesNYS = nys['CASES'].sum()\n",
        "total_casesNYS"
      ],
      "execution_count": null,
      "outputs": [
        {
          "output_type": "execute_result",
          "data": {
            "text/plain": [
              "144058132"
            ]
          },
          "metadata": {
            "tags": []
          },
          "execution_count": 0
        }
      ]
    },
    {
      "cell_type": "code",
      "metadata": {
        "colab": {
          "background_save": true
        },
        "id": "6pSlNHbDy2px",
        "outputId": "aac3f59e-659d-43cb-cb42-245f3b8558ce"
      },
      "source": [
        "# Total covid 19 deaths in New York State\n",
        "total_deathsNYS = nys['DEATHS'].sum()\n",
        "total_deathsNYS"
      ],
      "execution_count": null,
      "outputs": [
        {
          "output_type": "execute_result",
          "data": {
            "text/plain": [
              "8944260.0"
            ]
          },
          "metadata": {
            "tags": []
          },
          "execution_count": 0
        }
      ]
    },
    {
      "cell_type": "code",
      "metadata": {
        "colab": {
          "background_save": true
        },
        "id": "3N5QFe5q90Eb",
        "outputId": "c329510c-0c36-4801-e13b-3fdea4af6cbc"
      },
      "source": [
        "# Average cases and deaths in New York State\n",
        "nys.mean()"
      ],
      "execution_count": null,
      "outputs": [
        {
          "output_type": "execute_result",
          "data": {
            "text/plain": [
              "CASES     8122.357465\n",
              "DEATHS     504.299729\n",
              "dtype: float64"
            ]
          },
          "metadata": {
            "tags": []
          },
          "execution_count": 0
        }
      ]
    },
    {
      "cell_type": "code",
      "metadata": {
        "colab": {
          "background_save": true
        },
        "id": "GeL781JcDH_b",
        "outputId": "611c4a78-b42b-45d1-f205-8feeea450582"
      },
      "source": [
        "# Visualization of cases in New York State\n",
        "sns.displot(nys['CASES'], bins = 5)"
      ],
      "execution_count": null,
      "outputs": [
        {
          "output_type": "execute_result",
          "data": {
            "text/plain": [
              "<seaborn.axisgrid.FacetGrid at 0x7f8a08a18b00>"
            ]
          },
          "metadata": {
            "tags": []
          },
          "execution_count": 0
        },
        {
          "output_type": "display_data",
          "data": {
            "image/png": "[encoded data removed]",
            "text/plain": [
              "<Figure size 360x360 with 1 Axes>"
            ]
          },
          "metadata": {
            "tags": []
          }
        }
      ]
    },
    {
      "cell_type": "code",
      "metadata": {
        "colab": {
          "background_save": true
        },
        "id": "4v_xkKhKDQXi",
        "outputId": "59129486-a081-48bc-94ec-2074792492a5"
      },
      "source": [
        "# Visualization of deaths in New York State\n",
        "sns.displot(nys['DEATHS'], bins = 5)"
      ],
      "execution_count": null,
      "outputs": [
        {
          "output_type": "execute_result",
          "data": {
            "text/plain": [
              "<seaborn.axisgrid.FacetGrid at 0x7f8a0898e630>"
            ]
          },
          "metadata": {
            "tags": []
          },
          "execution_count": 0
        },
        {
          "output_type": "display_data",
          "data": {
            "image/png": "[encoded data removed]",
            "text/plain": [
              "<Figure size 360x360 with 1 Axes>"
            ]
          },
          "metadata": {
            "tags": []
          }
        }
      ]
    },
    {
      "cell_type": "markdown",
      "metadata": {
        "id": "rTUmOmJWeVmg"
      },
      "source": [
        "***NEW YORK STATE***\n",
        "\n",
        "In total, New York State has had:  \n",
        "*   144,058,132 cases of Covid 19\n",
        "*   8,944,260 deaths due to Covid 19"
      ]
    },
    {
      "cell_type": "code",
      "metadata": {
        "colab": {
          "background_save": true
        },
        "id": "7yd1xClurNCu",
        "outputId": "fdf00fb4-7d96-40ae-fd9c-d60de710245b"
      },
      "source": [
        "# Covid 19 data for last 30 days in New York State\n",
        "# Set base as today's date, need today's date because you're looking for last 30 days from this day \n",
        "base = date.today()\n",
        "# put our data into dataframe, named it results\n",
        "nys30 = pd.DataFrame(columns=['COUNTY', 'STATE', 'CASES', 'DEATHS'])\n",
        "# Loop through, start 30 days from today, stop at today's date\n",
        "for x in range (-30,0):\n",
        "  dates = base + datetime.timedelta(days=x)\n",
        "  # If that date is found in nys, append entry to dataframe\n",
        "  # Using index because we changed 'DATE' to index, so it's no longer a column\n",
        "  entry = nys[nys.index.str.contains(str(dates))]\n",
        "  nys30 = nys30.append(entry)\n",
        "nys30"
      ],
      "execution_count": null,
      "outputs": [
        {
          "output_type": "execute_result",
          "data": {
            "text/html": [
              "<div>\n",
              "<style scoped>\n",
              "    .dataframe tbody tr th:only-of-type {\n",
              "        vertical-align: middle;\n",
              "    }\n",
              "\n",
              "    .dataframe tbody tr th {\n",
              "        vertical-align: top;\n",
              "    }\n",
              "\n",
              "    .dataframe thead th {\n",
              "        text-align: right;\n",
              "    }\n",
              "</style>\n",
              "<table border=\"1\" class=\"dataframe\">\n",
              "  <thead>\n",
              "    <tr style=\"text-align: right;\">\n",
              "      <th></th>\n",
              "      <th>COUNTY</th>\n",
              "      <th>STATE</th>\n",
              "      <th>CASES</th>\n",
              "      <th>DEATHS</th>\n",
              "    </tr>\n",
              "  </thead>\n",
              "  <tbody>\n",
              "    <tr>\n",
              "      <th>2020-12-19</th>\n",
              "      <td>Albany</td>\n",
              "      <td>New York</td>\n",
              "      <td>8997</td>\n",
              "      <td>179.0</td>\n",
              "    </tr>\n",
              "    <tr>\n",
              "      <th>2020-12-19</th>\n",
              "      <td>Allegany</td>\n",
              "      <td>New York</td>\n",
              "      <td>1537</td>\n",
              "      <td>67.0</td>\n",
              "    </tr>\n",
              "    <tr>\n",
              "      <th>2020-12-19</th>\n",
              "      <td>Broome</td>\n",
              "      <td>New York</td>\n",
              "      <td>6938</td>\n",
              "      <td>186.0</td>\n",
              "    </tr>\n",
              "    <tr>\n",
              "      <th>2020-12-19</th>\n",
              "      <td>Cattaraugus</td>\n",
              "      <td>New York</td>\n",
              "      <td>2011</td>\n",
              "      <td>31.0</td>\n",
              "    </tr>\n",
              "    <tr>\n",
              "      <th>2020-12-19</th>\n",
              "      <td>Cayuga</td>\n",
              "      <td>New York</td>\n",
              "      <td>1953</td>\n",
              "      <td>14.0</td>\n",
              "    </tr>\n",
              "    <tr>\n",
              "      <th>...</th>\n",
              "      <td>...</td>\n",
              "      <td>...</td>\n",
              "      <td>...</td>\n",
              "      <td>...</td>\n",
              "    </tr>\n",
              "    <tr>\n",
              "      <th>2021-01-16</th>\n",
              "      <td>Washington</td>\n",
              "      <td>New York</td>\n",
              "      <td>1424</td>\n",
              "      <td>21.0</td>\n",
              "    </tr>\n",
              "    <tr>\n",
              "      <th>2021-01-16</th>\n",
              "      <td>Wayne</td>\n",
              "      <td>New York</td>\n",
              "      <td>3568</td>\n",
              "      <td>50.0</td>\n",
              "    </tr>\n",
              "    <tr>\n",
              "      <th>2021-01-16</th>\n",
              "      <td>Westchester</td>\n",
              "      <td>New York</td>\n",
              "      <td>82932</td>\n",
              "      <td>1780.0</td>\n",
              "    </tr>\n",
              "    <tr>\n",
              "      <th>2021-01-16</th>\n",
              "      <td>Wyoming</td>\n",
              "      <td>New York</td>\n",
              "      <td>2075</td>\n",
              "      <td>41.0</td>\n",
              "    </tr>\n",
              "    <tr>\n",
              "      <th>2021-01-16</th>\n",
              "      <td>Yates</td>\n",
              "      <td>New York</td>\n",
              "      <td>783</td>\n",
              "      <td>16.0</td>\n",
              "    </tr>\n",
              "  </tbody>\n",
              "</table>\n",
              "<p>1682 rows × 4 columns</p>\n",
              "</div>"
            ],
            "text/plain": [
              "                 COUNTY     STATE  CASES  DEATHS\n",
              "2020-12-19       Albany  New York   8997   179.0\n",
              "2020-12-19     Allegany  New York   1537    67.0\n",
              "2020-12-19       Broome  New York   6938   186.0\n",
              "2020-12-19  Cattaraugus  New York   2011    31.0\n",
              "2020-12-19       Cayuga  New York   1953    14.0\n",
              "...                 ...       ...    ...     ...\n",
              "2021-01-16   Washington  New York   1424    21.0\n",
              "2021-01-16        Wayne  New York   3568    50.0\n",
              "2021-01-16  Westchester  New York  82932  1780.0\n",
              "2021-01-16      Wyoming  New York   2075    41.0\n",
              "2021-01-16        Yates  New York    783    16.0\n",
              "\n",
              "[1682 rows x 4 columns]"
            ]
          },
          "metadata": {
            "tags": []
          },
          "execution_count": 0
        }
      ]
    },
    {
      "cell_type": "code",
      "metadata": {
        "colab": {
          "background_save": true
        },
        "id": "MYBbhKnazW1l",
        "outputId": "8315e0bb-a6bc-4602-83e2-1fbad074ad92"
      },
      "source": [
        "# Total covid 19 cases in New York State for past 30 days\n",
        "nys30_cases = nys30['CASES'].sum()\n",
        "nys30_cases"
      ],
      "execution_count": null,
      "outputs": [
        {
          "output_type": "execute_result",
          "data": {
            "text/plain": [
              "29544545"
            ]
          },
          "metadata": {
            "tags": []
          },
          "execution_count": 0
        }
      ]
    },
    {
      "cell_type": "code",
      "metadata": {
        "colab": {
          "background_save": true
        },
        "id": "cH6XpSyf5tPB",
        "outputId": "d3d84c3e-86c7-4653-b838-2305505613ea"
      },
      "source": [
        "# Total covid 19 deaths in New York State for past 30 days\n",
        "nys30_deaths = nys30['DEATHS'].sum()\n",
        "nys30_deaths"
      ],
      "execution_count": null,
      "outputs": [
        {
          "output_type": "execute_result",
          "data": {
            "text/plain": [
              "1101033.0"
            ]
          },
          "metadata": {
            "tags": []
          },
          "execution_count": 0
        }
      ]
    },
    {
      "cell_type": "code",
      "metadata": {
        "colab": {
          "background_save": true
        },
        "id": "GZddF3BcGOnl",
        "outputId": "b87d2d72-81ec-47e9-b6e1-b873ed82e629"
      },
      "source": [
        "# Average covid 19 cases and deaths in New York State for past 30 days \n",
        "nys30.mean()"
      ],
      "execution_count": null,
      "outputs": [
        {
          "output_type": "execute_result",
          "data": {
            "text/plain": [
              "CASES     17565.127824\n",
              "DEATHS      654.597503\n",
              "dtype: float64"
            ]
          },
          "metadata": {
            "tags": []
          },
          "execution_count": 0
        }
      ]
    },
    {
      "cell_type": "code",
      "metadata": {
        "colab": {
          "background_save": true
        },
        "id": "hpILRN24PhCm",
        "outputId": "af4b9699-df4d-4450-c88f-626766715ff7"
      },
      "source": [
        "# Visualization of cases in New York State for past 30 days \n",
        "sns.displot(nys30['CASES'], bins = 5)"
      ],
      "execution_count": null,
      "outputs": [
        {
          "output_type": "execute_result",
          "data": {
            "text/plain": [
              "<seaborn.axisgrid.FacetGrid at 0x7f8a0891cf28>"
            ]
          },
          "metadata": {
            "tags": []
          },
          "execution_count": 0
        },
        {
          "output_type": "display_data",
          "data": {
            "image/png": "[encoded data removed]",
            "text/plain": [
              "<Figure size 360x360 with 1 Axes>"
            ]
          },
          "metadata": {
            "tags": []
          }
        }
      ]
    },
    {
      "cell_type": "code",
      "metadata": {
        "colab": {
          "background_save": true
        },
        "id": "cXc4s4lNPg4d",
        "outputId": "6dffeab4-1bb3-495a-984d-d8b88c7efc0b"
      },
      "source": [
        "# Visualization of deaths in New York State for past 30 days \n",
        "sns.displot(nys30['DEATHS'], bins = 5)"
      ],
      "execution_count": null,
      "outputs": [
        {
          "output_type": "execute_result",
          "data": {
            "text/plain": [
              "<seaborn.axisgrid.FacetGrid at 0x7f8a088d6470>"
            ]
          },
          "metadata": {
            "tags": []
          },
          "execution_count": 0
        },
        {
          "output_type": "display_data",
          "data": {
            "image/png": "[encoded data removed]",
            "text/plain": [
              "<Figure size 360x360 with 1 Axes>"
            ]
          },
          "metadata": {
            "tags": []
          }
        }
      ]
    },
    {
      "cell_type": "markdown",
      "metadata": {
        "id": "X8FaWBULcot-"
      },
      "source": [
        "***NEW YORK STATE IN LAST 30 DAYS***\n",
        "\n",
        "In the last 30 days, New York State has had:  \n",
        "*   29,544,545 cases of Covid 19\n",
        "*   1,101,033 deaths due to Covid 19\n"
      ]
    },
    {
      "cell_type": "markdown",
      "metadata": {
        "id": "XNe9qF5Z9IZn"
      },
      "source": [
        "**NEW YORK CITY, NEW YORK COVID 19 DATA**"
      ]
    },
    {
      "cell_type": "code",
      "metadata": {
        "colab": {
          "background_save": true
        },
        "id": "WdJjRGyAAAJD",
        "outputId": "98c83bc9-939d-40d6-e1b3-edba6113c40d"
      },
      "source": [
        "# Further filter out -> state of New York and county of New York City\n",
        "# Use .str.contains() for fuzzy matching\n",
        "nyc = covid19[covid19['STATE'].str.contains('New York') & (covid19['COUNTY'].str.contains('New York City'))]\n",
        "nyc"
      ],
      "execution_count": null,
      "outputs": [
        {
          "output_type": "execute_result",
          "data": {
            "text/html": [
              "<div>\n",
              "<style scoped>\n",
              "    .dataframe tbody tr th:only-of-type {\n",
              "        vertical-align: middle;\n",
              "    }\n",
              "\n",
              "    .dataframe tbody tr th {\n",
              "        vertical-align: top;\n",
              "    }\n",
              "\n",
              "    .dataframe thead th {\n",
              "        text-align: right;\n",
              "    }\n",
              "</style>\n",
              "<table border=\"1\" class=\"dataframe\">\n",
              "  <thead>\n",
              "    <tr style=\"text-align: right;\">\n",
              "      <th></th>\n",
              "      <th>COUNTY</th>\n",
              "      <th>STATE</th>\n",
              "      <th>CASES</th>\n",
              "      <th>DEATHS</th>\n",
              "    </tr>\n",
              "    <tr>\n",
              "      <th>DATE</th>\n",
              "      <th></th>\n",
              "      <th></th>\n",
              "      <th></th>\n",
              "      <th></th>\n",
              "    </tr>\n",
              "  </thead>\n",
              "  <tbody>\n",
              "    <tr>\n",
              "      <th>2020-03-01</th>\n",
              "      <td>New York City</td>\n",
              "      <td>New York</td>\n",
              "      <td>1</td>\n",
              "      <td>0.0</td>\n",
              "    </tr>\n",
              "    <tr>\n",
              "      <th>2020-03-02</th>\n",
              "      <td>New York City</td>\n",
              "      <td>New York</td>\n",
              "      <td>1</td>\n",
              "      <td>0.0</td>\n",
              "    </tr>\n",
              "    <tr>\n",
              "      <th>2020-03-03</th>\n",
              "      <td>New York City</td>\n",
              "      <td>New York</td>\n",
              "      <td>2</td>\n",
              "      <td>0.0</td>\n",
              "    </tr>\n",
              "    <tr>\n",
              "      <th>2020-03-04</th>\n",
              "      <td>New York City</td>\n",
              "      <td>New York</td>\n",
              "      <td>2</td>\n",
              "      <td>0.0</td>\n",
              "    </tr>\n",
              "    <tr>\n",
              "      <th>2020-03-05</th>\n",
              "      <td>New York City</td>\n",
              "      <td>New York</td>\n",
              "      <td>4</td>\n",
              "      <td>0.0</td>\n",
              "    </tr>\n",
              "    <tr>\n",
              "      <th>...</th>\n",
              "      <td>...</td>\n",
              "      <td>...</td>\n",
              "      <td>...</td>\n",
              "      <td>...</td>\n",
              "    </tr>\n",
              "    <tr>\n",
              "      <th>2021-01-12</th>\n",
              "      <td>New York City</td>\n",
              "      <td>New York</td>\n",
              "      <td>498877</td>\n",
              "      <td>25698.0</td>\n",
              "    </tr>\n",
              "    <tr>\n",
              "      <th>2021-01-13</th>\n",
              "      <td>New York City</td>\n",
              "      <td>New York</td>\n",
              "      <td>504826</td>\n",
              "      <td>25741.0</td>\n",
              "    </tr>\n",
              "    <tr>\n",
              "      <th>2021-01-14</th>\n",
              "      <td>New York City</td>\n",
              "      <td>New York</td>\n",
              "      <td>510711</td>\n",
              "      <td>25834.0</td>\n",
              "    </tr>\n",
              "    <tr>\n",
              "      <th>2021-01-15</th>\n",
              "      <td>New York City</td>\n",
              "      <td>New York</td>\n",
              "      <td>517963</td>\n",
              "      <td>25909.0</td>\n",
              "    </tr>\n",
              "    <tr>\n",
              "      <th>2021-01-16</th>\n",
              "      <td>New York City</td>\n",
              "      <td>New York</td>\n",
              "      <td>524231</td>\n",
              "      <td>25970.0</td>\n",
              "    </tr>\n",
              "  </tbody>\n",
              "</table>\n",
              "<p>322 rows × 4 columns</p>\n",
              "</div>"
            ],
            "text/plain": [
              "                   COUNTY     STATE   CASES   DEATHS\n",
              "DATE                                                \n",
              "2020-03-01  New York City  New York       1      0.0\n",
              "2020-03-02  New York City  New York       1      0.0\n",
              "2020-03-03  New York City  New York       2      0.0\n",
              "2020-03-04  New York City  New York       2      0.0\n",
              "2020-03-05  New York City  New York       4      0.0\n",
              "...                   ...       ...     ...      ...\n",
              "2021-01-12  New York City  New York  498877  25698.0\n",
              "2021-01-13  New York City  New York  504826  25741.0\n",
              "2021-01-14  New York City  New York  510711  25834.0\n",
              "2021-01-15  New York City  New York  517963  25909.0\n",
              "2021-01-16  New York City  New York  524231  25970.0\n",
              "\n",
              "[322 rows x 4 columns]"
            ]
          },
          "metadata": {
            "tags": []
          },
          "execution_count": 0
        }
      ]
    },
    {
      "cell_type": "code",
      "metadata": {
        "colab": {
          "background_save": true
        },
        "id": "G6iVYRbXDrIh",
        "outputId": "f387374e-a8bd-4bc7-f806-fc5a9bdcf082"
      },
      "source": [
        "# Covid 19 statistics in New York City \n",
        "nyc.describe()"
      ],
      "execution_count": null,
      "outputs": [
        {
          "output_type": "execute_result",
          "data": {
            "text/html": [
              "<div>\n",
              "<style scoped>\n",
              "    .dataframe tbody tr th:only-of-type {\n",
              "        vertical-align: middle;\n",
              "    }\n",
              "\n",
              "    .dataframe tbody tr th {\n",
              "        vertical-align: top;\n",
              "    }\n",
              "\n",
              "    .dataframe thead th {\n",
              "        text-align: right;\n",
              "    }\n",
              "</style>\n",
              "<table border=\"1\" class=\"dataframe\">\n",
              "  <thead>\n",
              "    <tr style=\"text-align: right;\">\n",
              "      <th></th>\n",
              "      <th>CASES</th>\n",
              "      <th>DEATHS</th>\n",
              "    </tr>\n",
              "  </thead>\n",
              "  <tbody>\n",
              "    <tr>\n",
              "      <th>count</th>\n",
              "      <td>322.000000</td>\n",
              "      <td>322.000000</td>\n",
              "    </tr>\n",
              "    <tr>\n",
              "      <th>mean</th>\n",
              "      <td>228868.745342</td>\n",
              "      <td>19820.326087</td>\n",
              "    </tr>\n",
              "    <tr>\n",
              "      <th>std</th>\n",
              "      <td>108776.700931</td>\n",
              "      <td>7645.980013</td>\n",
              "    </tr>\n",
              "    <tr>\n",
              "      <th>min</th>\n",
              "      <td>1.000000</td>\n",
              "      <td>0.000000</td>\n",
              "    </tr>\n",
              "    <tr>\n",
              "      <th>25%</th>\n",
              "      <td>199670.750000</td>\n",
              "      <td>20439.250000</td>\n",
              "    </tr>\n",
              "    <tr>\n",
              "      <th>50%</th>\n",
              "      <td>232394.000000</td>\n",
              "      <td>23577.500000</td>\n",
              "    </tr>\n",
              "    <tr>\n",
              "      <th>75%</th>\n",
              "      <td>265054.250000</td>\n",
              "      <td>23979.500000</td>\n",
              "    </tr>\n",
              "    <tr>\n",
              "      <th>max</th>\n",
              "      <td>524231.000000</td>\n",
              "      <td>25970.000000</td>\n",
              "    </tr>\n",
              "  </tbody>\n",
              "</table>\n",
              "</div>"
            ],
            "text/plain": [
              "               CASES        DEATHS\n",
              "count     322.000000    322.000000\n",
              "mean   228868.745342  19820.326087\n",
              "std    108776.700931   7645.980013\n",
              "min         1.000000      0.000000\n",
              "25%    199670.750000  20439.250000\n",
              "50%    232394.000000  23577.500000\n",
              "75%    265054.250000  23979.500000\n",
              "max    524231.000000  25970.000000"
            ]
          },
          "metadata": {
            "tags": []
          },
          "execution_count": 0
        }
      ]
    },
    {
      "cell_type": "code",
      "metadata": {
        "colab": {
          "background_save": true
        },
        "id": "CYIsIO2NAkjk",
        "outputId": "66978afd-13fd-40f1-b457-cf4f2be21df6"
      },
      "source": [
        "# Total covid 19 cases in New York City\n",
        "total_casesNYC = nyc['CASES'].sum()\n",
        "total_casesNYC"
      ],
      "execution_count": null,
      "outputs": [
        {
          "output_type": "execute_result",
          "data": {
            "text/plain": [
              "73695736"
            ]
          },
          "metadata": {
            "tags": []
          },
          "execution_count": 0
        }
      ]
    },
    {
      "cell_type": "code",
      "metadata": {
        "colab": {
          "background_save": true
        },
        "id": "ezijVYTPq2XJ",
        "outputId": "9086bf6a-71b5-49ca-e701-c423e87c7094"
      },
      "source": [
        "# Total covid 19 deaths in New York City\n",
        "total_deathsNYC = nyc['DEATHS'].sum()\n",
        "total_deathsNYC"
      ],
      "execution_count": null,
      "outputs": [
        {
          "output_type": "execute_result",
          "data": {
            "text/plain": [
              "6382145.0"
            ]
          },
          "metadata": {
            "tags": []
          },
          "execution_count": 0
        }
      ]
    },
    {
      "cell_type": "code",
      "metadata": {
        "colab": {
          "background_save": true
        },
        "id": "EayoIMC0EH-o",
        "outputId": "322a2849-558c-4049-bd5c-20775b3dca38"
      },
      "source": [
        "# Average covid 19 cases and deaths in New York City\n",
        "nyc.mean()"
      ],
      "execution_count": null,
      "outputs": [
        {
          "output_type": "execute_result",
          "data": {
            "text/plain": [
              "CASES     228868.745342\n",
              "DEATHS     19820.326087\n",
              "dtype: float64"
            ]
          },
          "metadata": {
            "tags": []
          },
          "execution_count": 0
        }
      ]
    },
    {
      "cell_type": "code",
      "metadata": {
        "colab": {
          "background_save": true
        },
        "id": "f24KNUXXIvl6",
        "outputId": "df0559bb-e04a-492f-f501-9f98d1373414"
      },
      "source": [
        "# Visualization of cases in New York City\n",
        "sns.displot(nyc['CASES'], bins = 5)"
      ],
      "execution_count": null,
      "outputs": [
        {
          "output_type": "execute_result",
          "data": {
            "text/plain": [
              "<seaborn.axisgrid.FacetGrid at 0x7f8a09009978>"
            ]
          },
          "metadata": {
            "tags": []
          },
          "execution_count": 0
        },
        {
          "output_type": "display_data",
          "data": {
            "image/png": "[encoded data removed]",
            "text/plain": [
              "<Figure size 360x360 with 1 Axes>"
            ]
          },
          "metadata": {
            "tags": []
          }
        }
      ]
    },
    {
      "cell_type": "code",
      "metadata": {
        "colab": {
          "background_save": true
        },
        "id": "kPGceW7jIx5v",
        "outputId": "06da935c-1acd-4691-9dcc-a167c2a4bc02"
      },
      "source": [
        "# Visualization of deaths in New York City\n",
        "sns.displot(nyc['DEATHS'], bins = 5)"
      ],
      "execution_count": null,
      "outputs": [
        {
          "output_type": "execute_result",
          "data": {
            "text/plain": [
              "<seaborn.axisgrid.FacetGrid at 0x7f8a091c9ba8>"
            ]
          },
          "metadata": {
            "tags": []
          },
          "execution_count": 0
        },
        {
          "output_type": "display_data",
          "data": {
            "image/png": "[encoded data removed]",
            "text/plain": [
              "<Figure size 360x360 with 1 Axes>"
            ]
          },
          "metadata": {
            "tags": []
          }
        }
      ]
    },
    {
      "cell_type": "markdown",
      "metadata": {
        "id": "fDVaPwpIeulf"
      },
      "source": [
        "***NEW YORK CITY***\n",
        "\n",
        "In total, New York City has had:  \n",
        "*   73,695,736 cases of Covid 19\n",
        "*   6,382,145 deaths due to Covid 19"
      ]
    },
    {
      "cell_type": "code",
      "metadata": {
        "colab": {
          "background_save": true
        },
        "id": "XtYP-XtGC9TA",
        "outputId": "af894530-1e81-4613-e438-48aee960e0d3"
      },
      "source": [
        "# Covid 19 data in New York City for past 30 days\n",
        "# Can use tail bc only focused on one county \n",
        "nyc30 = nyc.tail(30)\n",
        "nyc30"
      ],
      "execution_count": null,
      "outputs": [
        {
          "output_type": "execute_result",
          "data": {
            "text/html": [
              "<div>\n",
              "<style scoped>\n",
              "    .dataframe tbody tr th:only-of-type {\n",
              "        vertical-align: middle;\n",
              "    }\n",
              "\n",
              "    .dataframe tbody tr th {\n",
              "        vertical-align: top;\n",
              "    }\n",
              "\n",
              "    .dataframe thead th {\n",
              "        text-align: right;\n",
              "    }\n",
              "</style>\n",
              "<table border=\"1\" class=\"dataframe\">\n",
              "  <thead>\n",
              "    <tr style=\"text-align: right;\">\n",
              "      <th></th>\n",
              "      <th>COUNTY</th>\n",
              "      <th>STATE</th>\n",
              "      <th>CASES</th>\n",
              "      <th>DEATHS</th>\n",
              "    </tr>\n",
              "    <tr>\n",
              "      <th>DATE</th>\n",
              "      <th></th>\n",
              "      <th></th>\n",
              "      <th></th>\n",
              "      <th></th>\n",
              "    </tr>\n",
              "  </thead>\n",
              "  <tbody>\n",
              "    <tr>\n",
              "      <th>2020-12-18</th>\n",
              "      <td>New York City</td>\n",
              "      <td>New York</td>\n",
              "      <td>377728</td>\n",
              "      <td>24652.0</td>\n",
              "    </tr>\n",
              "    <tr>\n",
              "      <th>2020-12-19</th>\n",
              "      <td>New York City</td>\n",
              "      <td>New York</td>\n",
              "      <td>381067</td>\n",
              "      <td>24677.0</td>\n",
              "    </tr>\n",
              "    <tr>\n",
              "      <th>2020-12-20</th>\n",
              "      <td>New York City</td>\n",
              "      <td>New York</td>\n",
              "      <td>383808</td>\n",
              "      <td>24697.0</td>\n",
              "    </tr>\n",
              "    <tr>\n",
              "      <th>2020-12-21</th>\n",
              "      <td>New York City</td>\n",
              "      <td>New York</td>\n",
              "      <td>387595</td>\n",
              "      <td>24735.0</td>\n",
              "    </tr>\n",
              "    <tr>\n",
              "      <th>2020-12-22</th>\n",
              "      <td>New York City</td>\n",
              "      <td>New York</td>\n",
              "      <td>391634</td>\n",
              "      <td>24768.0</td>\n",
              "    </tr>\n",
              "    <tr>\n",
              "      <th>2020-12-23</th>\n",
              "      <td>New York City</td>\n",
              "      <td>New York</td>\n",
              "      <td>395810</td>\n",
              "      <td>24790.0</td>\n",
              "    </tr>\n",
              "    <tr>\n",
              "      <th>2020-12-24</th>\n",
              "      <td>New York City</td>\n",
              "      <td>New York</td>\n",
              "      <td>401251</td>\n",
              "      <td>24842.0</td>\n",
              "    </tr>\n",
              "    <tr>\n",
              "      <th>2020-12-25</th>\n",
              "      <td>New York City</td>\n",
              "      <td>New York</td>\n",
              "      <td>405857</td>\n",
              "      <td>24889.0</td>\n",
              "    </tr>\n",
              "    <tr>\n",
              "      <th>2020-12-26</th>\n",
              "      <td>New York City</td>\n",
              "      <td>New York</td>\n",
              "      <td>410048</td>\n",
              "      <td>24931.0</td>\n",
              "    </tr>\n",
              "    <tr>\n",
              "      <th>2020-12-27</th>\n",
              "      <td>New York City</td>\n",
              "      <td>New York</td>\n",
              "      <td>413472</td>\n",
              "      <td>24973.0</td>\n",
              "    </tr>\n",
              "    <tr>\n",
              "      <th>2020-12-28</th>\n",
              "      <td>New York City</td>\n",
              "      <td>New York</td>\n",
              "      <td>416922</td>\n",
              "      <td>25008.0</td>\n",
              "    </tr>\n",
              "    <tr>\n",
              "      <th>2020-12-29</th>\n",
              "      <td>New York City</td>\n",
              "      <td>New York</td>\n",
              "      <td>422074</td>\n",
              "      <td>25055.0</td>\n",
              "    </tr>\n",
              "    <tr>\n",
              "      <th>2020-12-30</th>\n",
              "      <td>New York City</td>\n",
              "      <td>New York</td>\n",
              "      <td>426279</td>\n",
              "      <td>25099.0</td>\n",
              "    </tr>\n",
              "    <tr>\n",
              "      <th>2020-12-31</th>\n",
              "      <td>New York City</td>\n",
              "      <td>New York</td>\n",
              "      <td>430863</td>\n",
              "      <td>25144.0</td>\n",
              "    </tr>\n",
              "    <tr>\n",
              "      <th>2021-01-01</th>\n",
              "      <td>New York City</td>\n",
              "      <td>New York</td>\n",
              "      <td>436692</td>\n",
              "      <td>25186.0</td>\n",
              "    </tr>\n",
              "    <tr>\n",
              "      <th>2021-01-02</th>\n",
              "      <td>New York City</td>\n",
              "      <td>New York</td>\n",
              "      <td>442695</td>\n",
              "      <td>25211.0</td>\n",
              "    </tr>\n",
              "    <tr>\n",
              "      <th>2021-01-03</th>\n",
              "      <td>New York City</td>\n",
              "      <td>New York</td>\n",
              "      <td>446899</td>\n",
              "      <td>25244.0</td>\n",
              "    </tr>\n",
              "    <tr>\n",
              "      <th>2021-01-04</th>\n",
              "      <td>New York City</td>\n",
              "      <td>New York</td>\n",
              "      <td>450658</td>\n",
              "      <td>25284.0</td>\n",
              "    </tr>\n",
              "    <tr>\n",
              "      <th>2021-01-05</th>\n",
              "      <td>New York City</td>\n",
              "      <td>New York</td>\n",
              "      <td>455997</td>\n",
              "      <td>25309.0</td>\n",
              "    </tr>\n",
              "    <tr>\n",
              "      <th>2021-01-06</th>\n",
              "      <td>New York City</td>\n",
              "      <td>New York</td>\n",
              "      <td>460988</td>\n",
              "      <td>25362.0</td>\n",
              "    </tr>\n",
              "    <tr>\n",
              "      <th>2021-01-07</th>\n",
              "      <td>New York City</td>\n",
              "      <td>New York</td>\n",
              "      <td>467327</td>\n",
              "      <td>25416.0</td>\n",
              "    </tr>\n",
              "    <tr>\n",
              "      <th>2021-01-08</th>\n",
              "      <td>New York City</td>\n",
              "      <td>New York</td>\n",
              "      <td>474339</td>\n",
              "      <td>25453.0</td>\n",
              "    </tr>\n",
              "    <tr>\n",
              "      <th>2021-01-09</th>\n",
              "      <td>New York City</td>\n",
              "      <td>New York</td>\n",
              "      <td>481279</td>\n",
              "      <td>25505.0</td>\n",
              "    </tr>\n",
              "    <tr>\n",
              "      <th>2021-01-10</th>\n",
              "      <td>New York City</td>\n",
              "      <td>New York</td>\n",
              "      <td>487551</td>\n",
              "      <td>25562.0</td>\n",
              "    </tr>\n",
              "    <tr>\n",
              "      <th>2021-01-11</th>\n",
              "      <td>New York City</td>\n",
              "      <td>New York</td>\n",
              "      <td>493306</td>\n",
              "      <td>25635.0</td>\n",
              "    </tr>\n",
              "    <tr>\n",
              "      <th>2021-01-12</th>\n",
              "      <td>New York City</td>\n",
              "      <td>New York</td>\n",
              "      <td>498877</td>\n",
              "      <td>25698.0</td>\n",
              "    </tr>\n",
              "    <tr>\n",
              "      <th>2021-01-13</th>\n",
              "      <td>New York City</td>\n",
              "      <td>New York</td>\n",
              "      <td>504826</td>\n",
              "      <td>25741.0</td>\n",
              "    </tr>\n",
              "    <tr>\n",
              "      <th>2021-01-14</th>\n",
              "      <td>New York City</td>\n",
              "      <td>New York</td>\n",
              "      <td>510711</td>\n",
              "      <td>25834.0</td>\n",
              "    </tr>\n",
              "    <tr>\n",
              "      <th>2021-01-15</th>\n",
              "      <td>New York City</td>\n",
              "      <td>New York</td>\n",
              "      <td>517963</td>\n",
              "      <td>25909.0</td>\n",
              "    </tr>\n",
              "    <tr>\n",
              "      <th>2021-01-16</th>\n",
              "      <td>New York City</td>\n",
              "      <td>New York</td>\n",
              "      <td>524231</td>\n",
              "      <td>25970.0</td>\n",
              "    </tr>\n",
              "  </tbody>\n",
              "</table>\n",
              "</div>"
            ],
            "text/plain": [
              "                   COUNTY     STATE   CASES   DEATHS\n",
              "DATE                                                \n",
              "2020-12-18  New York City  New York  377728  24652.0\n",
              "2020-12-19  New York City  New York  381067  24677.0\n",
              "2020-12-20  New York City  New York  383808  24697.0\n",
              "2020-12-21  New York City  New York  387595  24735.0\n",
              "2020-12-22  New York City  New York  391634  24768.0\n",
              "2020-12-23  New York City  New York  395810  24790.0\n",
              "2020-12-24  New York City  New York  401251  24842.0\n",
              "2020-12-25  New York City  New York  405857  24889.0\n",
              "2020-12-26  New York City  New York  410048  24931.0\n",
              "2020-12-27  New York City  New York  413472  24973.0\n",
              "2020-12-28  New York City  New York  416922  25008.0\n",
              "2020-12-29  New York City  New York  422074  25055.0\n",
              "2020-12-30  New York City  New York  426279  25099.0\n",
              "2020-12-31  New York City  New York  430863  25144.0\n",
              "2021-01-01  New York City  New York  436692  25186.0\n",
              "2021-01-02  New York City  New York  442695  25211.0\n",
              "2021-01-03  New York City  New York  446899  25244.0\n",
              "2021-01-04  New York City  New York  450658  25284.0\n",
              "2021-01-05  New York City  New York  455997  25309.0\n",
              "2021-01-06  New York City  New York  460988  25362.0\n",
              "2021-01-07  New York City  New York  467327  25416.0\n",
              "2021-01-08  New York City  New York  474339  25453.0\n",
              "2021-01-09  New York City  New York  481279  25505.0\n",
              "2021-01-10  New York City  New York  487551  25562.0\n",
              "2021-01-11  New York City  New York  493306  25635.0\n",
              "2021-01-12  New York City  New York  498877  25698.0\n",
              "2021-01-13  New York City  New York  504826  25741.0\n",
              "2021-01-14  New York City  New York  510711  25834.0\n",
              "2021-01-15  New York City  New York  517963  25909.0\n",
              "2021-01-16  New York City  New York  524231  25970.0"
            ]
          },
          "metadata": {
            "tags": []
          },
          "execution_count": 0
        }
      ]
    },
    {
      "cell_type": "code",
      "metadata": {
        "colab": {
          "background_save": true
        },
        "id": "hEz_BXDdIK3j",
        "outputId": "129a2b94-19ab-4ee0-b526-be03ecb0671c"
      },
      "source": [
        "# Sum of covid 19 cases in New York City for past 30 days\n",
        "nyc30_cases = nyc30['CASES'].sum()\n",
        "nyc30_cases"
      ],
      "execution_count": null,
      "outputs": [
        {
          "output_type": "execute_result",
          "data": {
            "text/plain": [
              "13298747"
            ]
          },
          "metadata": {
            "tags": []
          },
          "execution_count": 0
        }
      ]
    },
    {
      "cell_type": "code",
      "metadata": {
        "colab": {
          "background_save": true
        },
        "id": "cD_6C7_mIYNs",
        "outputId": "6d28432c-54a3-4668-e1fd-668410c9c21d"
      },
      "source": [
        "# Sum of covid 19 deaths in New York City for past 30 days \n",
        "nyc30_deaths = nyc30['DEATHS'].sum()\n",
        "nyc30_deaths"
      ],
      "execution_count": null,
      "outputs": [
        {
          "output_type": "execute_result",
          "data": {
            "text/plain": [
              "756579.0"
            ]
          },
          "metadata": {
            "tags": []
          },
          "execution_count": 0
        }
      ]
    },
    {
      "cell_type": "code",
      "metadata": {
        "colab": {
          "background_save": true
        },
        "id": "gFfBtWOZEt_H",
        "outputId": "1d19820b-f739-4988-d381-c9ad8b91ce4c"
      },
      "source": [
        "# Average covid 19 cases and deaths in New York City for past 30 days \n",
        "nyc30.mean()"
      ],
      "execution_count": null,
      "outputs": [
        {
          "output_type": "execute_result",
          "data": {
            "text/plain": [
              "CASES     443291.566667\n",
              "DEATHS     25219.300000\n",
              "dtype: float64"
            ]
          },
          "metadata": {
            "tags": []
          },
          "execution_count": 0
        }
      ]
    },
    {
      "cell_type": "code",
      "metadata": {
        "colab": {
          "background_save": true
        },
        "id": "8ZBVEqppI9D0",
        "outputId": "d5678baa-889b-44f5-f9f0-9f2c1e014ef8"
      },
      "source": [
        "# Visualization for covid 19 cases in New York City for past 30 days \n",
        "sns.displot(nyc30['CASES'], bins = 5)"
      ],
      "execution_count": null,
      "outputs": [
        {
          "output_type": "execute_result",
          "data": {
            "text/plain": [
              "<seaborn.axisgrid.FacetGrid at 0x7f8a0b64fe80>"
            ]
          },
          "metadata": {
            "tags": []
          },
          "execution_count": 0
        },
        {
          "output_type": "display_data",
          "data": {
            "image/png": "[encoded data removed]",
            "text/plain": [
              "<Figure size 360x360 with 1 Axes>"
            ]
          },
          "metadata": {
            "tags": []
          }
        }
      ]
    },
    {
      "cell_type": "code",
      "metadata": {
        "colab": {
          "background_save": true
        },
        "id": "0bBAOFeeI86q",
        "outputId": "862763d7-2d95-413d-87b0-d129ed5ad2a6"
      },
      "source": [
        "# Visualization for covid 19 deaths in New York City for past 30 days \n",
        "sns.displot(nyc30['DEATHS'], bins = 5)"
      ],
      "execution_count": null,
      "outputs": [
        {
          "output_type": "execute_result",
          "data": {
            "text/plain": [
              "<seaborn.axisgrid.FacetGrid at 0x7f8a0c70dcf8>"
            ]
          },
          "metadata": {
            "tags": []
          },
          "execution_count": 0
        },
        {
          "output_type": "display_data",
          "data": {
            "image/png": "[encoded data removed]",
            "text/plain": [
              "<Figure size 360x360 with 1 Axes>"
            ]
          },
          "metadata": {
            "tags": []
          }
        }
      ]
    },
    {
      "cell_type": "markdown",
      "metadata": {
        "id": "vBdKNGb_fJrq"
      },
      "source": [
        "***NEW YORK CITY IN LAST 30 DAYS***\n",
        "\n",
        "In the last 30 days, New York City has had:\n",
        "\n",
        "\n",
        "*   13,298,747 cases of Covid 19\n",
        "*   756,579 deaths due to Covid 19\n"
      ]
    },
    {
      "cell_type": "markdown",
      "metadata": {
        "id": "d-aB2qdsF2ws"
      },
      "source": [
        "**DATA FOR PASSAIC COUNTY IN NEW JERSEY**"
      ]
    },
    {
      "cell_type": "code",
      "metadata": {
        "colab": {
          "background_save": true
        },
        "id": "W7UtQnYAFCmV",
        "outputId": "50df12ef-ac6f-4742-c1bf-ef6b5204691e"
      },
      "source": [
        "# Filter out Passaic County in New Jersey\n",
        "# Use .str.contains() for fuzzy matching\n",
        "pass_nj = covid19[covid19['STATE'].str.contains('New Jersey') & (covid19['COUNTY'].str.contains('Passaic'))]\n",
        "pass_nj"
      ],
      "execution_count": null,
      "outputs": [
        {
          "output_type": "execute_result",
          "data": {
            "text/html": [
              "<div>\n",
              "<style scoped>\n",
              "    .dataframe tbody tr th:only-of-type {\n",
              "        vertical-align: middle;\n",
              "    }\n",
              "\n",
              "    .dataframe tbody tr th {\n",
              "        vertical-align: top;\n",
              "    }\n",
              "\n",
              "    .dataframe thead th {\n",
              "        text-align: right;\n",
              "    }\n",
              "</style>\n",
              "<table border=\"1\" class=\"dataframe\">\n",
              "  <thead>\n",
              "    <tr style=\"text-align: right;\">\n",
              "      <th></th>\n",
              "      <th>COUNTY</th>\n",
              "      <th>STATE</th>\n",
              "      <th>CASES</th>\n",
              "      <th>DEATHS</th>\n",
              "    </tr>\n",
              "    <tr>\n",
              "      <th>DATE</th>\n",
              "      <th></th>\n",
              "      <th></th>\n",
              "      <th></th>\n",
              "      <th></th>\n",
              "    </tr>\n",
              "  </thead>\n",
              "  <tbody>\n",
              "    <tr>\n",
              "      <th>2020-03-08</th>\n",
              "      <td>Passaic</td>\n",
              "      <td>New Jersey</td>\n",
              "      <td>1</td>\n",
              "      <td>0.0</td>\n",
              "    </tr>\n",
              "    <tr>\n",
              "      <th>2020-03-09</th>\n",
              "      <td>Passaic</td>\n",
              "      <td>New Jersey</td>\n",
              "      <td>1</td>\n",
              "      <td>0.0</td>\n",
              "    </tr>\n",
              "    <tr>\n",
              "      <th>2020-03-10</th>\n",
              "      <td>Passaic</td>\n",
              "      <td>New Jersey</td>\n",
              "      <td>1</td>\n",
              "      <td>0.0</td>\n",
              "    </tr>\n",
              "    <tr>\n",
              "      <th>2020-03-11</th>\n",
              "      <td>Passaic</td>\n",
              "      <td>New Jersey</td>\n",
              "      <td>1</td>\n",
              "      <td>0.0</td>\n",
              "    </tr>\n",
              "    <tr>\n",
              "      <th>2020-03-12</th>\n",
              "      <td>Passaic</td>\n",
              "      <td>New Jersey</td>\n",
              "      <td>1</td>\n",
              "      <td>0.0</td>\n",
              "    </tr>\n",
              "    <tr>\n",
              "      <th>...</th>\n",
              "      <td>...</td>\n",
              "      <td>...</td>\n",
              "      <td>...</td>\n",
              "      <td>...</td>\n",
              "    </tr>\n",
              "    <tr>\n",
              "      <th>2021-01-12</th>\n",
              "      <td>Passaic</td>\n",
              "      <td>New Jersey</td>\n",
              "      <td>46104</td>\n",
              "      <td>1519.0</td>\n",
              "    </tr>\n",
              "    <tr>\n",
              "      <th>2021-01-13</th>\n",
              "      <td>Passaic</td>\n",
              "      <td>New Jersey</td>\n",
              "      <td>46517</td>\n",
              "      <td>1524.0</td>\n",
              "    </tr>\n",
              "    <tr>\n",
              "      <th>2021-01-14</th>\n",
              "      <td>Passaic</td>\n",
              "      <td>New Jersey</td>\n",
              "      <td>46888</td>\n",
              "      <td>1531.0</td>\n",
              "    </tr>\n",
              "    <tr>\n",
              "      <th>2021-01-15</th>\n",
              "      <td>Passaic</td>\n",
              "      <td>New Jersey</td>\n",
              "      <td>47135</td>\n",
              "      <td>1534.0</td>\n",
              "    </tr>\n",
              "    <tr>\n",
              "      <th>2021-01-16</th>\n",
              "      <td>Passaic</td>\n",
              "      <td>New Jersey</td>\n",
              "      <td>47429</td>\n",
              "      <td>1541.0</td>\n",
              "    </tr>\n",
              "  </tbody>\n",
              "</table>\n",
              "<p>315 rows × 4 columns</p>\n",
              "</div>"
            ],
            "text/plain": [
              "             COUNTY       STATE  CASES  DEATHS\n",
              "DATE                                          \n",
              "2020-03-08  Passaic  New Jersey      1     0.0\n",
              "2020-03-09  Passaic  New Jersey      1     0.0\n",
              "2020-03-10  Passaic  New Jersey      1     0.0\n",
              "2020-03-11  Passaic  New Jersey      1     0.0\n",
              "2020-03-12  Passaic  New Jersey      1     0.0\n",
              "...             ...         ...    ...     ...\n",
              "2021-01-12  Passaic  New Jersey  46104  1519.0\n",
              "2021-01-13  Passaic  New Jersey  46517  1524.0\n",
              "2021-01-14  Passaic  New Jersey  46888  1531.0\n",
              "2021-01-15  Passaic  New Jersey  47135  1534.0\n",
              "2021-01-16  Passaic  New Jersey  47429  1541.0\n",
              "\n",
              "[315 rows x 4 columns]"
            ]
          },
          "metadata": {
            "tags": []
          },
          "execution_count": 0
        }
      ]
    },
    {
      "cell_type": "code",
      "metadata": {
        "colab": {
          "background_save": true
        },
        "id": "RUGkKywYJVdg",
        "outputId": "81b352b6-6306-4119-a21d-f206b6627920"
      },
      "source": [
        "# Statistics on covid 19 in Passaic County in New Jersey \n",
        "pass_nj.describe()"
      ],
      "execution_count": null,
      "outputs": [
        {
          "output_type": "execute_result",
          "data": {
            "text/html": [
              "<div>\n",
              "<style scoped>\n",
              "    .dataframe tbody tr th:only-of-type {\n",
              "        vertical-align: middle;\n",
              "    }\n",
              "\n",
              "    .dataframe tbody tr th {\n",
              "        vertical-align: top;\n",
              "    }\n",
              "\n",
              "    .dataframe thead th {\n",
              "        text-align: right;\n",
              "    }\n",
              "</style>\n",
              "<table border=\"1\" class=\"dataframe\">\n",
              "  <thead>\n",
              "    <tr style=\"text-align: right;\">\n",
              "      <th></th>\n",
              "      <th>CASES</th>\n",
              "      <th>DEATHS</th>\n",
              "    </tr>\n",
              "  </thead>\n",
              "  <tbody>\n",
              "    <tr>\n",
              "      <th>count</th>\n",
              "      <td>315.000000</td>\n",
              "      <td>315.000000</td>\n",
              "    </tr>\n",
              "    <tr>\n",
              "      <th>mean</th>\n",
              "      <td>19219.406349</td>\n",
              "      <td>1017.688889</td>\n",
              "    </tr>\n",
              "    <tr>\n",
              "      <th>std</th>\n",
              "      <td>10594.296496</td>\n",
              "      <td>447.779125</td>\n",
              "    </tr>\n",
              "    <tr>\n",
              "      <th>min</th>\n",
              "      <td>1.000000</td>\n",
              "      <td>0.000000</td>\n",
              "    </tr>\n",
              "    <tr>\n",
              "      <th>25%</th>\n",
              "      <td>15800.000000</td>\n",
              "      <td>891.500000</td>\n",
              "    </tr>\n",
              "    <tr>\n",
              "      <th>50%</th>\n",
              "      <td>17895.000000</td>\n",
              "      <td>1244.000000</td>\n",
              "    </tr>\n",
              "    <tr>\n",
              "      <th>75%</th>\n",
              "      <td>21120.000000</td>\n",
              "      <td>1261.000000</td>\n",
              "    </tr>\n",
              "    <tr>\n",
              "      <th>max</th>\n",
              "      <td>47429.000000</td>\n",
              "      <td>1541.000000</td>\n",
              "    </tr>\n",
              "  </tbody>\n",
              "</table>\n",
              "</div>"
            ],
            "text/plain": [
              "              CASES       DEATHS\n",
              "count    315.000000   315.000000\n",
              "mean   19219.406349  1017.688889\n",
              "std    10594.296496   447.779125\n",
              "min        1.000000     0.000000\n",
              "25%    15800.000000   891.500000\n",
              "50%    17895.000000  1244.000000\n",
              "75%    21120.000000  1261.000000\n",
              "max    47429.000000  1541.000000"
            ]
          },
          "metadata": {
            "tags": []
          },
          "execution_count": 0
        }
      ]
    },
    {
      "cell_type": "code",
      "metadata": {
        "colab": {
          "background_save": true
        },
        "id": "-QmHKzwtJb4k",
        "outputId": "82309b7e-d5b4-4cef-b7aa-676643246417"
      },
      "source": [
        "# Total cases in Passaic County in New Jersey \n",
        "total_casesNJ_Pass = pass_nj['CASES'].sum()\n",
        "total_casesNJ_Pass"
      ],
      "execution_count": null,
      "outputs": [
        {
          "output_type": "execute_result",
          "data": {
            "text/plain": [
              "6054113"
            ]
          },
          "metadata": {
            "tags": []
          },
          "execution_count": 0
        }
      ]
    },
    {
      "cell_type": "code",
      "metadata": {
        "colab": {
          "background_save": true
        },
        "id": "pm5IHlFrJnRp",
        "outputId": "04014724-5b1d-45f9-cebf-09e21851b9d1"
      },
      "source": [
        "# Total deaths in Passaic County in New Jersey \n",
        "total_deathsNJ_Pass = pass_nj['DEATHS'].sum()\n",
        "total_deathsNJ_Pass"
      ],
      "execution_count": null,
      "outputs": [
        {
          "output_type": "execute_result",
          "data": {
            "text/plain": [
              "320572.0"
            ]
          },
          "metadata": {
            "tags": []
          },
          "execution_count": 0
        }
      ]
    },
    {
      "cell_type": "code",
      "metadata": {
        "colab": {
          "background_save": true
        },
        "id": "u_S-ONkPKmZ5",
        "outputId": "f8129e7d-3d95-470a-e7ae-85cee8a572f0"
      },
      "source": [
        "# Average covid 19 cases and deaths in Passaic County in New Jersey\n",
        "pass_nj.mean()"
      ],
      "execution_count": null,
      "outputs": [
        {
          "output_type": "execute_result",
          "data": {
            "text/plain": [
              "CASES     19219.406349\n",
              "DEATHS     1017.688889\n",
              "dtype: float64"
            ]
          },
          "metadata": {
            "tags": []
          },
          "execution_count": 0
        }
      ]
    },
    {
      "cell_type": "code",
      "metadata": {
        "colab": {
          "background_save": true
        },
        "id": "4cg6MvE4Kqks",
        "outputId": "1039dc25-074e-4c4d-eebc-51a9504375af"
      },
      "source": [
        "# Visualization for covid 19 cases in passaic county in New Jersey\n",
        "sns.displot(pass_nj['CASES'], bins = 5)"
      ],
      "execution_count": null,
      "outputs": [
        {
          "output_type": "execute_result",
          "data": {
            "text/plain": [
              "<seaborn.axisgrid.FacetGrid at 0x7f8a08775d68>"
            ]
          },
          "metadata": {
            "tags": []
          },
          "execution_count": 0
        },
        {
          "output_type": "display_data",
          "data": {
            "image/png": "[encoded data removed]",
            "text/plain": [
              "<Figure size 360x360 with 1 Axes>"
            ]
          },
          "metadata": {
            "tags": []
          }
        }
      ]
    },
    {
      "cell_type": "code",
      "metadata": {
        "colab": {
          "background_save": true
        },
        "id": "XUhClHsMKqS2",
        "outputId": "a393c92c-848f-4668-bbc5-c386f5719076"
      },
      "source": [
        "# Visualization for covid 19 deaths in passaic county in New Jersey\n",
        "sns.displot(pass_nj['DEATHS'], bins = 5)"
      ],
      "execution_count": null,
      "outputs": [
        {
          "output_type": "execute_result",
          "data": {
            "text/plain": [
              "<seaborn.axisgrid.FacetGrid at 0x7f8a0874cba8>"
            ]
          },
          "metadata": {
            "tags": []
          },
          "execution_count": 0
        },
        {
          "output_type": "display_data",
          "data": {
            "image/png": "[encoded data removed]",
            "text/plain": [
              "<Figure size 360x360 with 1 Axes>"
            ]
          },
          "metadata": {
            "tags": []
          }
        }
      ]
    },
    {
      "cell_type": "markdown",
      "metadata": {
        "id": "X-VN1b_rxjac"
      },
      "source": [
        "***PASSAIC COUNTY IN NEW JERSEY***\n",
        "\n",
        "In total, Passaic County in New York Jersey has had:  \n",
        "*    6,054,113 cases of Covid 19\n",
        "*    320,572 deaths due to Covid 19"
      ]
    },
    {
      "cell_type": "code",
      "metadata": {
        "colab": {
          "background_save": true
        },
        "id": "0pqIBnW1Hk5d",
        "outputId": "338dfac2-bc15-4dcf-9103-bd7d26210fd9"
      },
      "source": [
        "# Covid 19 data in Passaic County, New Jersey for past 30 days\n",
        "# Can use tail bc only focused on one county \n",
        "pass_nj30 = pass_nj.tail(30)\n",
        "pass_nj30"
      ],
      "execution_count": null,
      "outputs": [
        {
          "output_type": "execute_result",
          "data": {
            "text/html": [
              "<div>\n",
              "<style scoped>\n",
              "    .dataframe tbody tr th:only-of-type {\n",
              "        vertical-align: middle;\n",
              "    }\n",
              "\n",
              "    .dataframe tbody tr th {\n",
              "        vertical-align: top;\n",
              "    }\n",
              "\n",
              "    .dataframe thead th {\n",
              "        text-align: right;\n",
              "    }\n",
              "</style>\n",
              "<table border=\"1\" class=\"dataframe\">\n",
              "  <thead>\n",
              "    <tr style=\"text-align: right;\">\n",
              "      <th></th>\n",
              "      <th>COUNTY</th>\n",
              "      <th>STATE</th>\n",
              "      <th>CASES</th>\n",
              "      <th>DEATHS</th>\n",
              "    </tr>\n",
              "    <tr>\n",
              "      <th>DATE</th>\n",
              "      <th></th>\n",
              "      <th></th>\n",
              "      <th></th>\n",
              "      <th></th>\n",
              "    </tr>\n",
              "  </thead>\n",
              "  <tbody>\n",
              "    <tr>\n",
              "      <th>2020-12-18</th>\n",
              "      <td>Passaic</td>\n",
              "      <td>New Jersey</td>\n",
              "      <td>37134</td>\n",
              "      <td>1388.0</td>\n",
              "    </tr>\n",
              "    <tr>\n",
              "      <th>2020-12-19</th>\n",
              "      <td>Passaic</td>\n",
              "      <td>New Jersey</td>\n",
              "      <td>37382</td>\n",
              "      <td>1391.0</td>\n",
              "    </tr>\n",
              "    <tr>\n",
              "      <th>2020-12-20</th>\n",
              "      <td>Passaic</td>\n",
              "      <td>New Jersey</td>\n",
              "      <td>37634</td>\n",
              "      <td>1392.0</td>\n",
              "    </tr>\n",
              "    <tr>\n",
              "      <th>2020-12-21</th>\n",
              "      <td>Passaic</td>\n",
              "      <td>New Jersey</td>\n",
              "      <td>37831</td>\n",
              "      <td>1395.0</td>\n",
              "    </tr>\n",
              "    <tr>\n",
              "      <th>2020-12-22</th>\n",
              "      <td>Passaic</td>\n",
              "      <td>New Jersey</td>\n",
              "      <td>37992</td>\n",
              "      <td>1407.0</td>\n",
              "    </tr>\n",
              "    <tr>\n",
              "      <th>2020-12-23</th>\n",
              "      <td>Passaic</td>\n",
              "      <td>New Jersey</td>\n",
              "      <td>38419</td>\n",
              "      <td>1418.0</td>\n",
              "    </tr>\n",
              "    <tr>\n",
              "      <th>2020-12-24</th>\n",
              "      <td>Passaic</td>\n",
              "      <td>New Jersey</td>\n",
              "      <td>38618</td>\n",
              "      <td>1424.0</td>\n",
              "    </tr>\n",
              "    <tr>\n",
              "      <th>2020-12-25</th>\n",
              "      <td>Passaic</td>\n",
              "      <td>New Jersey</td>\n",
              "      <td>38988</td>\n",
              "      <td>1426.0</td>\n",
              "    </tr>\n",
              "    <tr>\n",
              "      <th>2020-12-26</th>\n",
              "      <td>Passaic</td>\n",
              "      <td>New Jersey</td>\n",
              "      <td>39238</td>\n",
              "      <td>1426.0</td>\n",
              "    </tr>\n",
              "    <tr>\n",
              "      <th>2020-12-27</th>\n",
              "      <td>Passaic</td>\n",
              "      <td>New Jersey</td>\n",
              "      <td>39348</td>\n",
              "      <td>1426.0</td>\n",
              "    </tr>\n",
              "    <tr>\n",
              "      <th>2020-12-28</th>\n",
              "      <td>Passaic</td>\n",
              "      <td>New Jersey</td>\n",
              "      <td>39459</td>\n",
              "      <td>1427.0</td>\n",
              "    </tr>\n",
              "    <tr>\n",
              "      <th>2020-12-29</th>\n",
              "      <td>Passaic</td>\n",
              "      <td>New Jersey</td>\n",
              "      <td>39606</td>\n",
              "      <td>1435.0</td>\n",
              "    </tr>\n",
              "    <tr>\n",
              "      <th>2020-12-30</th>\n",
              "      <td>Passaic</td>\n",
              "      <td>New Jersey</td>\n",
              "      <td>39808</td>\n",
              "      <td>1451.0</td>\n",
              "    </tr>\n",
              "    <tr>\n",
              "      <th>2020-12-31</th>\n",
              "      <td>Passaic</td>\n",
              "      <td>New Jersey</td>\n",
              "      <td>40033</td>\n",
              "      <td>1458.0</td>\n",
              "    </tr>\n",
              "    <tr>\n",
              "      <th>2021-01-01</th>\n",
              "      <td>Passaic</td>\n",
              "      <td>New Jersey</td>\n",
              "      <td>40318</td>\n",
              "      <td>1460.0</td>\n",
              "    </tr>\n",
              "    <tr>\n",
              "      <th>2021-01-02</th>\n",
              "      <td>Passaic</td>\n",
              "      <td>New Jersey</td>\n",
              "      <td>40563</td>\n",
              "      <td>1462.0</td>\n",
              "    </tr>\n",
              "    <tr>\n",
              "      <th>2021-01-03</th>\n",
              "      <td>Passaic</td>\n",
              "      <td>New Jersey</td>\n",
              "      <td>40776</td>\n",
              "      <td>1462.0</td>\n",
              "    </tr>\n",
              "    <tr>\n",
              "      <th>2021-01-04</th>\n",
              "      <td>Passaic</td>\n",
              "      <td>New Jersey</td>\n",
              "      <td>43749</td>\n",
              "      <td>1463.0</td>\n",
              "    </tr>\n",
              "    <tr>\n",
              "      <th>2021-01-05</th>\n",
              "      <td>Passaic</td>\n",
              "      <td>New Jersey</td>\n",
              "      <td>44070</td>\n",
              "      <td>1474.0</td>\n",
              "    </tr>\n",
              "    <tr>\n",
              "      <th>2021-01-06</th>\n",
              "      <td>Passaic</td>\n",
              "      <td>New Jersey</td>\n",
              "      <td>44350</td>\n",
              "      <td>1481.0</td>\n",
              "    </tr>\n",
              "    <tr>\n",
              "      <th>2021-01-07</th>\n",
              "      <td>Passaic</td>\n",
              "      <td>New Jersey</td>\n",
              "      <td>44831</td>\n",
              "      <td>1496.0</td>\n",
              "    </tr>\n",
              "    <tr>\n",
              "      <th>2021-01-08</th>\n",
              "      <td>Passaic</td>\n",
              "      <td>New Jersey</td>\n",
              "      <td>45102</td>\n",
              "      <td>1505.0</td>\n",
              "    </tr>\n",
              "    <tr>\n",
              "      <th>2021-01-09</th>\n",
              "      <td>Passaic</td>\n",
              "      <td>New Jersey</td>\n",
              "      <td>45376</td>\n",
              "      <td>1510.0</td>\n",
              "    </tr>\n",
              "    <tr>\n",
              "      <th>2021-01-10</th>\n",
              "      <td>Passaic</td>\n",
              "      <td>New Jersey</td>\n",
              "      <td>45642</td>\n",
              "      <td>1514.0</td>\n",
              "    </tr>\n",
              "    <tr>\n",
              "      <th>2021-01-11</th>\n",
              "      <td>Passaic</td>\n",
              "      <td>New Jersey</td>\n",
              "      <td>45892</td>\n",
              "      <td>1517.0</td>\n",
              "    </tr>\n",
              "    <tr>\n",
              "      <th>2021-01-12</th>\n",
              "      <td>Passaic</td>\n",
              "      <td>New Jersey</td>\n",
              "      <td>46104</td>\n",
              "      <td>1519.0</td>\n",
              "    </tr>\n",
              "    <tr>\n",
              "      <th>2021-01-13</th>\n",
              "      <td>Passaic</td>\n",
              "      <td>New Jersey</td>\n",
              "      <td>46517</td>\n",
              "      <td>1524.0</td>\n",
              "    </tr>\n",
              "    <tr>\n",
              "      <th>2021-01-14</th>\n",
              "      <td>Passaic</td>\n",
              "      <td>New Jersey</td>\n",
              "      <td>46888</td>\n",
              "      <td>1531.0</td>\n",
              "    </tr>\n",
              "    <tr>\n",
              "      <th>2021-01-15</th>\n",
              "      <td>Passaic</td>\n",
              "      <td>New Jersey</td>\n",
              "      <td>47135</td>\n",
              "      <td>1534.0</td>\n",
              "    </tr>\n",
              "    <tr>\n",
              "      <th>2021-01-16</th>\n",
              "      <td>Passaic</td>\n",
              "      <td>New Jersey</td>\n",
              "      <td>47429</td>\n",
              "      <td>1541.0</td>\n",
              "    </tr>\n",
              "  </tbody>\n",
              "</table>\n",
              "</div>"
            ],
            "text/plain": [
              "             COUNTY       STATE  CASES  DEATHS\n",
              "DATE                                          \n",
              "2020-12-18  Passaic  New Jersey  37134  1388.0\n",
              "2020-12-19  Passaic  New Jersey  37382  1391.0\n",
              "2020-12-20  Passaic  New Jersey  37634  1392.0\n",
              "2020-12-21  Passaic  New Jersey  37831  1395.0\n",
              "2020-12-22  Passaic  New Jersey  37992  1407.0\n",
              "2020-12-23  Passaic  New Jersey  38419  1418.0\n",
              "2020-12-24  Passaic  New Jersey  38618  1424.0\n",
              "2020-12-25  Passaic  New Jersey  38988  1426.0\n",
              "2020-12-26  Passaic  New Jersey  39238  1426.0\n",
              "2020-12-27  Passaic  New Jersey  39348  1426.0\n",
              "2020-12-28  Passaic  New Jersey  39459  1427.0\n",
              "2020-12-29  Passaic  New Jersey  39606  1435.0\n",
              "2020-12-30  Passaic  New Jersey  39808  1451.0\n",
              "2020-12-31  Passaic  New Jersey  40033  1458.0\n",
              "2021-01-01  Passaic  New Jersey  40318  1460.0\n",
              "2021-01-02  Passaic  New Jersey  40563  1462.0\n",
              "2021-01-03  Passaic  New Jersey  40776  1462.0\n",
              "2021-01-04  Passaic  New Jersey  43749  1463.0\n",
              "2021-01-05  Passaic  New Jersey  44070  1474.0\n",
              "2021-01-06  Passaic  New Jersey  44350  1481.0\n",
              "2021-01-07  Passaic  New Jersey  44831  1496.0\n",
              "2021-01-08  Passaic  New Jersey  45102  1505.0\n",
              "2021-01-09  Passaic  New Jersey  45376  1510.0\n",
              "2021-01-10  Passaic  New Jersey  45642  1514.0\n",
              "2021-01-11  Passaic  New Jersey  45892  1517.0\n",
              "2021-01-12  Passaic  New Jersey  46104  1519.0\n",
              "2021-01-13  Passaic  New Jersey  46517  1524.0\n",
              "2021-01-14  Passaic  New Jersey  46888  1531.0\n",
              "2021-01-15  Passaic  New Jersey  47135  1534.0\n",
              "2021-01-16  Passaic  New Jersey  47429  1541.0"
            ]
          },
          "metadata": {
            "tags": []
          },
          "execution_count": 0
        }
      ]
    },
    {
      "cell_type": "code",
      "metadata": {
        "colab": {
          "background_save": true
        },
        "id": "yrB_RbOcGWSr",
        "outputId": "772b70cb-9744-4fa0-9ef5-f50666911fd7"
      },
      "source": [
        "# Total covid 19 cases in Passaic County in New Jersey for past 30 days \n",
        "njpass30_cases = pass_nj30['CASES'].sum()\n",
        "njpass30_cases"
      ],
      "execution_count": null,
      "outputs": [
        {
          "output_type": "execute_result",
          "data": {
            "text/plain": [
              "1256232"
            ]
          },
          "metadata": {
            "tags": []
          },
          "execution_count": 0
        }
      ]
    },
    {
      "cell_type": "code",
      "metadata": {
        "colab": {
          "background_save": true
        },
        "id": "gpa_W26aGWqC",
        "outputId": "76d78de1-707e-4628-a6c7-c53373a9c900"
      },
      "source": [
        "# Total covid 19 deaths in Passaic County in New Jersey for past 30 days \n",
        "njpass30_deaths = pass_nj30['DEATHS'].sum()\n",
        "njpass30_deaths "
      ],
      "execution_count": null,
      "outputs": [
        {
          "output_type": "execute_result",
          "data": {
            "text/plain": [
              "43857.0"
            ]
          },
          "metadata": {
            "tags": []
          },
          "execution_count": 0
        }
      ]
    },
    {
      "cell_type": "code",
      "metadata": {
        "colab": {
          "background_save": true
        },
        "id": "3ZXK7Ql4GVsE",
        "outputId": "11a97ff6-1162-4060-b0c8-3c8c256f1855"
      },
      "source": [
        "# Average covid 19 cases and deaths in Passaic County in New Jersey for past 30 days \n",
        "pass_nj30.mean()"
      ],
      "execution_count": null,
      "outputs": [
        {
          "output_type": "execute_result",
          "data": {
            "text/plain": [
              "CASES     41874.4\n",
              "DEATHS     1461.9\n",
              "dtype: float64"
            ]
          },
          "metadata": {
            "tags": []
          },
          "execution_count": 0
        }
      ]
    },
    {
      "cell_type": "code",
      "metadata": {
        "colab": {
          "background_save": true
        },
        "id": "af3PrzLRGlEo",
        "outputId": "53727dab-9307-488c-bf82-98b408411769"
      },
      "source": [
        "# Visualization of cases in Passaic County in New Jersey for last 30 Days \n",
        "sns.displot(pass_nj30['CASES'], bins = 5)"
      ],
      "execution_count": null,
      "outputs": [
        {
          "output_type": "execute_result",
          "data": {
            "text/plain": [
              "<seaborn.axisgrid.FacetGrid at 0x7f8a086f5208>"
            ]
          },
          "metadata": {
            "tags": []
          },
          "execution_count": 0
        },
        {
          "output_type": "display_data",
          "data": {
            "image/png": "[encoded data removed]",
            "text/plain": [
              "<Figure size 360x360 with 1 Axes>"
            ]
          },
          "metadata": {
            "tags": []
          }
        }
      ]
    },
    {
      "cell_type": "code",
      "metadata": {
        "colab": {
          "background_save": true
        },
        "id": "VD9cmi2JRS8k",
        "outputId": "e491cce9-1f8d-4680-d244-2bee6559c57c"
      },
      "source": [
        "# Visualization of deaths in Passaic County in New Jersey for last 30 Days\n",
        "sns.displot(pass_nj30['DEATHS'], bins = 5)"
      ],
      "execution_count": null,
      "outputs": [
        {
          "output_type": "execute_result",
          "data": {
            "text/plain": [
              "<seaborn.axisgrid.FacetGrid at 0x7f8a086baf28>"
            ]
          },
          "metadata": {
            "tags": []
          },
          "execution_count": 0
        },
        {
          "output_type": "display_data",
          "data": {
            "image/png": "[encoded data removed]",
            "text/plain": [
              "<Figure size 360x360 with 1 Axes>"
            ]
          },
          "metadata": {
            "tags": []
          }
        }
      ]
    },
    {
      "cell_type": "markdown",
      "metadata": {
        "id": "z8KKdy7xyNM7"
      },
      "source": [
        "***PASSAIC COUNTY IN NEW JERSEY IN LAST 30 DAYS***\n",
        "\n",
        "In total, Passaic County in New York Jersey has had:  \n",
        "*    1,256,232 cases of Covid 19\n",
        "*    43,857 deaths due to Covid 19"
      ]
    },
    {
      "cell_type": "markdown",
      "metadata": {
        "id": "1PWsR5OnQfD6"
      },
      "source": [
        "***NEW YORK CITY, NEW YORK VS. PASSAIC COUNTY, NEW JERSEY***\n",
        "\n",
        "\n",
        "In total, New York City has had:\n",
        "*   67,641,623 more Covid 19 cases than Passaic County in New Jersey\n",
        "*   6,061,573 more deaths than in Passaic County\n",
        "\n",
        "In the last 30 days, New York City has had: \n",
        "*   12,042,515 cases than in Passaic County\n",
        "*   712,722 more deaths than in Passaic County \n"
      ]
    },
    {
      "cell_type": "markdown",
      "metadata": {
        "id": "c5HJ3DqUGFZf"
      },
      "source": [
        "**DATA FOR PHILADELPHIA, PENNSYLVANIA**"
      ]
    },
    {
      "cell_type": "code",
      "metadata": {
        "colab": {
          "background_save": true
        },
        "id": "AkhpWndZGoOx",
        "outputId": "7bfbc209-107d-4a07-fdaf-3c2001801647"
      },
      "source": [
        "# Filter out Philadelphia in Pennsylvania \n",
        "# Use .str.contains() for fuzzy matching\n",
        "phil_pa = covid19[covid19['STATE'].str.contains('Pennsylvania') & (covid19['COUNTY'].str.contains('Philadelphia'))]\n",
        "phil_pa"
      ],
      "execution_count": null,
      "outputs": [
        {
          "output_type": "execute_result",
          "data": {
            "text/html": [
              "<div>\n",
              "<style scoped>\n",
              "    .dataframe tbody tr th:only-of-type {\n",
              "        vertical-align: middle;\n",
              "    }\n",
              "\n",
              "    .dataframe tbody tr th {\n",
              "        vertical-align: top;\n",
              "    }\n",
              "\n",
              "    .dataframe thead th {\n",
              "        text-align: right;\n",
              "    }\n",
              "</style>\n",
              "<table border=\"1\" class=\"dataframe\">\n",
              "  <thead>\n",
              "    <tr style=\"text-align: right;\">\n",
              "      <th></th>\n",
              "      <th>COUNTY</th>\n",
              "      <th>STATE</th>\n",
              "      <th>CASES</th>\n",
              "      <th>DEATHS</th>\n",
              "    </tr>\n",
              "    <tr>\n",
              "      <th>DATE</th>\n",
              "      <th></th>\n",
              "      <th></th>\n",
              "      <th></th>\n",
              "      <th></th>\n",
              "    </tr>\n",
              "  </thead>\n",
              "  <tbody>\n",
              "    <tr>\n",
              "      <th>2020-03-10</th>\n",
              "      <td>Philadelphia</td>\n",
              "      <td>Pennsylvania</td>\n",
              "      <td>1</td>\n",
              "      <td>0.0</td>\n",
              "    </tr>\n",
              "    <tr>\n",
              "      <th>2020-03-11</th>\n",
              "      <td>Philadelphia</td>\n",
              "      <td>Pennsylvania</td>\n",
              "      <td>1</td>\n",
              "      <td>0.0</td>\n",
              "    </tr>\n",
              "    <tr>\n",
              "      <th>2020-03-12</th>\n",
              "      <td>Philadelphia</td>\n",
              "      <td>Pennsylvania</td>\n",
              "      <td>1</td>\n",
              "      <td>0.0</td>\n",
              "    </tr>\n",
              "    <tr>\n",
              "      <th>2020-03-13</th>\n",
              "      <td>Philadelphia</td>\n",
              "      <td>Pennsylvania</td>\n",
              "      <td>3</td>\n",
              "      <td>0.0</td>\n",
              "    </tr>\n",
              "    <tr>\n",
              "      <th>2020-03-14</th>\n",
              "      <td>Philadelphia</td>\n",
              "      <td>Pennsylvania</td>\n",
              "      <td>4</td>\n",
              "      <td>0.0</td>\n",
              "    </tr>\n",
              "    <tr>\n",
              "      <th>...</th>\n",
              "      <td>...</td>\n",
              "      <td>...</td>\n",
              "      <td>...</td>\n",
              "      <td>...</td>\n",
              "    </tr>\n",
              "    <tr>\n",
              "      <th>2021-01-12</th>\n",
              "      <td>Philadelphia</td>\n",
              "      <td>Pennsylvania</td>\n",
              "      <td>100910</td>\n",
              "      <td>2645.0</td>\n",
              "    </tr>\n",
              "    <tr>\n",
              "      <th>2021-01-13</th>\n",
              "      <td>Philadelphia</td>\n",
              "      <td>Pennsylvania</td>\n",
              "      <td>101582</td>\n",
              "      <td>2671.0</td>\n",
              "    </tr>\n",
              "    <tr>\n",
              "      <th>2021-01-14</th>\n",
              "      <td>Philadelphia</td>\n",
              "      <td>Pennsylvania</td>\n",
              "      <td>102168</td>\n",
              "      <td>2693.0</td>\n",
              "    </tr>\n",
              "    <tr>\n",
              "      <th>2021-01-15</th>\n",
              "      <td>Philadelphia</td>\n",
              "      <td>Pennsylvania</td>\n",
              "      <td>102837</td>\n",
              "      <td>2722.0</td>\n",
              "    </tr>\n",
              "    <tr>\n",
              "      <th>2021-01-16</th>\n",
              "      <td>Philadelphia</td>\n",
              "      <td>Pennsylvania</td>\n",
              "      <td>102837</td>\n",
              "      <td>2723.0</td>\n",
              "    </tr>\n",
              "  </tbody>\n",
              "</table>\n",
              "<p>313 rows × 4 columns</p>\n",
              "</div>"
            ],
            "text/plain": [
              "                  COUNTY         STATE   CASES  DEATHS\n",
              "DATE                                                  \n",
              "2020-03-10  Philadelphia  Pennsylvania       1     0.0\n",
              "2020-03-11  Philadelphia  Pennsylvania       1     0.0\n",
              "2020-03-12  Philadelphia  Pennsylvania       1     0.0\n",
              "2020-03-13  Philadelphia  Pennsylvania       3     0.0\n",
              "2020-03-14  Philadelphia  Pennsylvania       4     0.0\n",
              "...                  ...           ...     ...     ...\n",
              "2021-01-12  Philadelphia  Pennsylvania  100910  2645.0\n",
              "2021-01-13  Philadelphia  Pennsylvania  101582  2671.0\n",
              "2021-01-14  Philadelphia  Pennsylvania  102168  2693.0\n",
              "2021-01-15  Philadelphia  Pennsylvania  102837  2722.0\n",
              "2021-01-16  Philadelphia  Pennsylvania  102837  2723.0\n",
              "\n",
              "[313 rows x 4 columns]"
            ]
          },
          "metadata": {
            "tags": []
          },
          "execution_count": 0
        }
      ]
    },
    {
      "cell_type": "code",
      "metadata": {
        "id": "TOWpFVVRHDO0"
      },
      "source": [
        "# Statistics on covid 19 in Philadelphia, Pennsylvania \n",
        "phil_pa.describe()"
      ],
      "execution_count": null,
      "outputs": []
    },
    {
      "cell_type": "code",
      "metadata": {
        "id": "70BdkYBcG5Qb"
      },
      "source": [
        "# Total covid 19 cases in Philadelphia, Pennsylvania \n",
        "phil_pa_cases = phil_pa['CASES'].sum()\n",
        "phil_pa_cases"
      ],
      "execution_count": null,
      "outputs": []
    },
    {
      "cell_type": "code",
      "metadata": {
        "id": "YpJ40othG5BM"
      },
      "source": [
        "# Total covid 19 deaths in Philadelphia, Pennsylvania \n",
        "phil_pa_deaths = phil_pa['DEATHS'].sum()\n",
        "phil_pa_deaths"
      ],
      "execution_count": null,
      "outputs": []
    },
    {
      "cell_type": "code",
      "metadata": {
        "id": "5eXE6VpsHGCh"
      },
      "source": [
        "# Average covid 19 cases and deaths in Philadelphia, Pennsylvania \n",
        "phil_pa.mean()"
      ],
      "execution_count": null,
      "outputs": []
    },
    {
      "cell_type": "code",
      "metadata": {
        "id": "CWy63LCuHHJI"
      },
      "source": [
        "# Visualization of covid 19 cases in Philadelphia, Pennsylvania \n",
        "sns.displot(phil_pa['CASES'], bins = 5)"
      ],
      "execution_count": null,
      "outputs": []
    },
    {
      "cell_type": "code",
      "metadata": {
        "id": "JyoLNzAGIe6E"
      },
      "source": [
        "# Visualization of covid 19 deaths in Philadelphia, Pennsylvania \n",
        "sns.displot(phil_pa['DEATHS'], bins = 5)"
      ],
      "execution_count": null,
      "outputs": []
    },
    {
      "cell_type": "markdown",
      "metadata": {
        "id": "uMPNSAyl3ewo"
      },
      "source": [
        "***PHILADELPHIA, PENNSYLVANIA***\n",
        "\n",
        "In total, Philadelphia, Pennsylvania has had:  \n",
        "*    11,540,015 cases of Covid 19\n",
        "*    470,653 deaths due to Covid 19"
      ]
    },
    {
      "cell_type": "code",
      "metadata": {
        "id": "0Ye82_atRgPb"
      },
      "source": [
        "# Covid 19 data in Philadelphia, Pennsylvania for past 30 days\n",
        "# Can use tail bc only focused on one county \n",
        "phil_pa30 = phil_pa.tail(30)\n",
        "phil_pa30"
      ],
      "execution_count": null,
      "outputs": []
    },
    {
      "cell_type": "code",
      "metadata": {
        "id": "uwmPbQECHe5_"
      },
      "source": [
        "# Total covid 19 cases in Philadelphia,Pennsylvania for last 30 days\n",
        "phil_pa30_cases = phil_pa30['CASES'].sum()\n",
        "phil_pa30_cases"
      ],
      "execution_count": null,
      "outputs": []
    },
    {
      "cell_type": "code",
      "metadata": {
        "id": "_5QP-dSMUw--"
      },
      "source": [
        "# Total covid 19 deaths in Philadelphia,Pennsylvania for last 30 days\n",
        "phil_pa30_deaths = phil_pa30['DEATHS'].sum()\n",
        "phil_pa30_deaths"
      ],
      "execution_count": null,
      "outputs": []
    },
    {
      "cell_type": "code",
      "metadata": {
        "id": "c55AFtsEYQ1N"
      },
      "source": [
        "# Average covid 19 cases and deaths in Philadelphia,Pennsylvania for last 30 days\n",
        "phil_pa30.mean()"
      ],
      "execution_count": null,
      "outputs": []
    },
    {
      "cell_type": "code",
      "metadata": {
        "id": "W6ERy1H6U0c3"
      },
      "source": [
        "# Visualization of cases in Philadelphia,Pennsylvania for last 30 days\n",
        "sns.displot(phil_pa30['CASES'], bins = 5)"
      ],
      "execution_count": null,
      "outputs": []
    },
    {
      "cell_type": "code",
      "metadata": {
        "id": "iWpCoFGEVBnz"
      },
      "source": [
        "# Visualization of deaths in Philadelphia,Pennsylvania for last 30 days\n",
        "sns.displot(phil_pa30['DEATHS'], bins = 5)"
      ],
      "execution_count": null,
      "outputs": []
    },
    {
      "cell_type": "markdown",
      "metadata": {
        "id": "ERZoj4WA5JNw"
      },
      "source": [
        "***PHILADELPHIA, PENNSYLVANIA IN THE LAST 30 DAYS***\n",
        "\n",
        "In the last 30 days, Philadelphia, Pennsylvania has had:  \n",
        "*    2,826,716 cases of Covid 19\n",
        "*    74,641 deaths due to Covid 19"
      ]
    },
    {
      "cell_type": "markdown",
      "metadata": {
        "id": "QRA7ETfAQzG2"
      },
      "source": [
        "***PASSAIC COUNTY, NEW JERSEY VS. PHILADELPHIA, PENNSYLVANIA***\n",
        "\n",
        "In total Philadelphia, Pennsylvania has had: \n",
        "\n",
        "*   5,485,902 more Covid 19 cases than in Passaic Couny in New Jersey\n",
        "*   150,081 more deaths than in Passaic County \n",
        "\n",
        "In the last 30 days, Philadelphia, Pennsylvania has had: \n",
        "\n",
        "*   1,570,484 more Covid 19 cases than in Passaic Couny in New Jersey\n",
        "*   30,784 more deaths than in Passaic County \n"
      ]
    },
    {
      "cell_type": "markdown",
      "metadata": {
        "id": "L6YyD-Uw9kKa"
      },
      "source": [
        "***NEW YORK CITY, NEW YORK VS. PHILADELPHIA, PENNSYLVANIA***\n",
        "\n",
        "Overall, New York City has had the most cases and deaths for Covid 19. Second, was Philadelphia, Pennsylvania. Passaic County in New Jersey had the least number of cases and deaths between the three. \n",
        "\n",
        "Within the last 30 days, New York City continued to have the most cases and deaths for Covid 19. Philadephia, Pennsylvania remained second. Passaic County in Jersey had the least number of cases and deaths between the three. "
      ]
    },
    {
      "cell_type": "code",
      "metadata": {
        "id": "3Y_upGBaVF96"
      },
      "source": [
        ""
      ],
      "execution_count": null,
      "outputs": []
    }
  ]
}